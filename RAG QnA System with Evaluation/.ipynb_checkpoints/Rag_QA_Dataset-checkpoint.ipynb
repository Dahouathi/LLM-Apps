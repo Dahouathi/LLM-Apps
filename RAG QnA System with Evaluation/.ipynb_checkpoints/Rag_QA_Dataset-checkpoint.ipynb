{
 "cells": [
  {
   "cell_type": "markdown",
   "id": "17bf9db4-c248-4594-9c44-6a12f1d949fe",
   "metadata": {},
   "source": [
    "# Retrieval-Augmented Generation (RAG) QA System\n",
    "\n",
    "This notebook demonstrates the implementation and evaluation of a **Retrieval-Augmented Generation (RAG)** QA system. The project combines:\n",
    "- **Document retrieval** using ChromaDB.\n",
    "- **Language generation** powered by LangChain and Hugging Face models.\n",
    "- **Evaluation** with metrics like BLEU, ROUGE, and BERTScore.\n",
    "\n",
    "The dataset used is a collection of QA pairs [`dev_v2.1.json`](https://msmarco.z22.web.core.windows.net/msmarco/dev_v2.1.json.gz). The system aims to:\n",
    "1. Retrieve relevant context for user questions.\n",
    "2. Generate accurate and context-aware answers.\n",
    "3. Evaluate performance with precision, recall, and F1 metrics.\n",
    "\n",
    "![RAG Implementation + Evaluation Workflow](Rag_architecture.png)\n",
    "\n",
    "**Key Tools:**\n",
    "- LangChain\n",
    "- ChromaDB\n",
    "- Hugging Face\n",
    "- BERTScore"
   ]
  },
  {
   "cell_type": "markdown",
   "id": "02bd8e59-0cf8-4b35-9360-c408d2ed8dbe",
   "metadata": {
    "jp-MarkdownHeadingCollapsed": true
   },
   "source": [
    "## Testing Ollama and LangChain Integration\n",
    "\n",
    "This section tests the integration of Ollama with LangChain to ensure that the language model responds to prompts correctly.\n",
    "\n",
    "### Objectives:\n",
    "- Test Ollama's response capabilities.\n",
    "- Ensure LangChain can interact with the model using its chat interface."
   ]
  },
  {
   "cell_type": "code",
   "execution_count": null,
   "id": "fce85f2f-b4c9-4b98-88d2-5bad2fc1e4dc",
   "metadata": {},
   "outputs": [],
   "source": [
    "! pip install ollama"
   ]
  },
  {
   "cell_type": "code",
   "execution_count": 1,
   "id": "8b09a0b0-2d50-4e34-b26b-8f5a87af90b2",
   "metadata": {},
   "outputs": [],
   "source": [
    "from ollama import Client\n",
    "client = Client(\n",
    "  host='http://localhost:11434',\n",
    "  headers={'x-some-header': 'some-value'}\n",
    ")"
   ]
  },
  {
   "cell_type": "code",
   "execution_count": 2,
   "id": "2a5c7b07-e99f-4738-a8ea-19794896f9c4",
   "metadata": {},
   "outputs": [],
   "source": [
    "def get_response(prompt):\n",
    "    response = client.chat(model='llama3.2:1b', messages = prompt)\n",
    "    return response"
   ]
  },
  {
   "cell_type": "code",
   "execution_count": 30,
   "id": "2773b751-3749-4271-b56a-2fa2717c491f",
   "metadata": {},
   "outputs": [],
   "source": [
    "prompt = [\n",
    "    {\"role\": \"system\", \"content\": \"You are an assitant helps to answer questions!\"},\n",
    "    {\"role\": \"user\", \"content\": \"Who are you?\"},\n",
    "]\n",
    "response = get_response(prompt)"
   ]
  },
  {
   "cell_type": "code",
   "execution_count": 31,
   "id": "8f7e5c90-03c7-4e19-8de9-dccde6b29ba4",
   "metadata": {},
   "outputs": [
    {
     "name": "stdout",
     "output_type": "stream",
     "text": [
      "I'm an assistant here to help answer your questions and provide information on a wide range of topics. I'm a large language model, so I can provide insights and responses on many subjects, from science and history to entertainment and culture. I don't have personal experiences or emotions like humans do, but I'm designed to be helpful and provide accurate information to the best of my ability. What's on your mind?\n"
     ]
    }
   ],
   "source": [
    "print(response)"
   ]
  },
  {
   "cell_type": "code",
   "execution_count": null,
   "id": "83182ebb-29bc-4dc6-a021-c014ade00791",
   "metadata": {},
   "outputs": [],
   "source": [
    "! pip install -qU langchain-ollama"
   ]
  },
  {
   "cell_type": "code",
   "execution_count": 1,
   "id": "bfdbc7d6-8785-4780-aab1-b5ae0f18a0a0",
   "metadata": {},
   "outputs": [],
   "source": [
    "from langchain_ollama import ChatOllama"
   ]
  },
  {
   "cell_type": "code",
   "execution_count": 2,
   "id": "aacc4fc6-6235-4231-866e-6c0d1b3de69c",
   "metadata": {},
   "outputs": [],
   "source": [
    "llm = ChatOllama(\n",
    "                model = \"llama3.2\",\n",
    "                temperature = 0,\n",
    "                num_predict = 128,\n",
    "                # other params ...\n",
    "            )"
   ]
  },
  {
   "cell_type": "code",
   "execution_count": 39,
   "id": "bc85029a-341e-4eb5-8b76-7eea89553653",
   "metadata": {},
   "outputs": [],
   "source": [
    "response = llm.invoke(prompt)"
   ]
  },
  {
   "cell_type": "code",
   "execution_count": 40,
   "id": "e1ac966b-0e72-4913-8cd4-3024e2d56f46",
   "metadata": {},
   "outputs": [
    {
     "name": "stdout",
     "output_type": "stream",
     "text": [
      "I'm an assistant here to help with any questions or information you might need. My name is not publicly known, as I'm a large language model, I don't have a personal identity or personal details like humans do. I exist solely to provide information and assist with tasks to the best of my abilities, based on my training and the data I was provided with. What would you like to know or discuss?\n"
     ]
    }
   ],
   "source": [
    "print(response.content)"
   ]
  },
  {
   "cell_type": "code",
   "execution_count": 5,
   "id": "70811b06-9cac-4008-b019-88bc471b4263",
   "metadata": {},
   "outputs": [],
   "source": [
    "from langchain.prompts import PromptTemplate\n",
    "\n",
    "prompt_template = PromptTemplate(\n",
    "    input_variables=[\"query\"],\n",
    "    template=\"\"\"\n",
    "    You are an assitant helps to answer questions.\n",
    "\n",
    "    Question:\n",
    "    {query}\n",
    "\n",
    "    Answer:\n",
    "    \"\"\"\n",
    ")"
   ]
  },
  {
   "cell_type": "code",
   "execution_count": 75,
   "id": "afaa25af-d6db-4ce6-9e91-ada7b81475cf",
   "metadata": {},
   "outputs": [],
   "source": [
    "# chain\n",
    "chain = prompt_template | llm"
   ]
  },
  {
   "cell_type": "code",
   "execution_count": 78,
   "id": "9af99baa-819b-4934-b353-3cbcc5b5de9c",
   "metadata": {},
   "outputs": [
    {
     "data": {
      "text/plain": [
       "AIMessage(content=\"I'm an artificial intelligence assistant, which means I'm a computer program designed to assist and communicate with humans. I'm here to provide information, answer questions, and help with tasks to the best of my abilities. I don't have a personal identity or consciousness like a human, but I'm constantly learning and improving to become more helpful and accurate in our conversations.\", additional_kwargs={}, response_metadata={'model': 'llama3.2:1b', 'created_at': '2025-01-11T19:11:54.2701998Z', 'done': True, 'done_reason': 'stop', 'total_duration': 13303344200, 'load_duration': 7747887700, 'prompt_eval_count': 46, 'prompt_eval_duration': 828000000, 'eval_count': 74, 'eval_duration': 4726000000, 'message': Message(role='assistant', content='', images=None, tool_calls=None)}, id='run-787e9349-dd97-422d-b56f-f3c4fded4107-0', usage_metadata={'input_tokens': 46, 'output_tokens': 74, 'total_tokens': 120})"
      ]
     },
     "execution_count": 78,
     "metadata": {},
     "output_type": "execute_result"
    }
   ],
   "source": [
    "chain.invoke({\"query\": \"who are you ?\"})"
   ]
  },
  {
   "cell_type": "markdown",
   "id": "9c83c0ef-4174-46ce-a2c2-2faa412d774b",
   "metadata": {
    "jp-MarkdownHeadingCollapsed": true
   },
   "source": [
    "## Data Loading and Preprocessing\n",
    "\n",
    "### Dataset Description:\n",
    "\n",
    "The dataset [`dev_v2.1.json`](https://msmarco.z22.web.core.windows.net/msmarco/dev_v2.1.json.gz) contains QA pairs and related passages. In this section, we:\n",
    "1. Load the dataset into a Pandas DataFrame.\n",
    "2. Filter out questions without answers.\n",
    "3. Prepare data chunks for retrieval and embeddings."
   ]
  },
  {
   "cell_type": "code",
   "execution_count": 47,
   "id": "3d01178a-1904-41e5-92a9-298897c80aa9",
   "metadata": {},
   "outputs": [],
   "source": [
    "%%capture\n",
    "!pip install -qU langchain-huggingface\n",
    "! pip install langchain\n",
    "! pip install chromadb\n",
    "! pip install langchain-chroma"
   ]
  },
  {
   "cell_type": "code",
   "execution_count": 3,
   "id": "75a36348-69cd-4cc2-9ea7-e166fdb5e320",
   "metadata": {},
   "outputs": [],
   "source": [
    "import pandas as pd"
   ]
  },
  {
   "cell_type": "code",
   "execution_count": 4,
   "id": "a7fde101-995c-4b60-9aeb-c4b3348fe10c",
   "metadata": {},
   "outputs": [],
   "source": [
    "data  = pd.read_json('dev_v2.1.json')"
   ]
  },
  {
   "cell_type": "code",
   "execution_count": 5,
   "id": "271eab16-98f1-41a0-86ad-4b81e46e06aa",
   "metadata": {},
   "outputs": [
    {
     "data": {
      "text/plain": [
       "Index(['answers', 'passages', 'query', 'query_id', 'query_type',\n",
       "       'wellFormedAnswers'],\n",
       "      dtype='object')"
      ]
     },
     "execution_count": 5,
     "metadata": {},
     "output_type": "execute_result"
    }
   ],
   "source": [
    "data.columns"
   ]
  },
  {
   "cell_type": "code",
   "execution_count": 6,
   "id": "7a0f4ec6-8792-4fd1-93a0-79b92a609188",
   "metadata": {},
   "outputs": [
    {
     "name": "stdout",
     "output_type": "stream",
     "text": [
      "Question: . what is a corporation?\n",
      "Answer: ['A corporation is a company or group of people authorized to act as a single entity and recognized as such in law.']\n"
     ]
    }
   ],
   "source": [
    "raw_0 = data.iloc[0]\n",
    "print(f\"Question: {raw_0.query}\\nAnswer: {raw_0.answers}\")"
   ]
  },
  {
   "cell_type": "code",
   "execution_count": 7,
   "id": "ccb5ec91-85b9-4e70-8c8a-fec699bb4185",
   "metadata": {},
   "outputs": [
    {
     "data": {
      "text/plain": [
       "'LLCs offer greater flexibility when it comes to income taxes. 1  The owner or member of an LLC can have their income taxed in three ways: 2  A single owner LLC is treated as a Schedule C (sole proprietor) for tax purposes.'"
      ]
     },
     "execution_count": 7,
     "metadata": {},
     "output_type": "execute_result"
    }
   ],
   "source": [
    "raw_0.passages[9].get('passage_text')"
   ]
  },
  {
   "cell_type": "code",
   "execution_count": 8,
   "id": "439ed871-7a47-4c37-928f-c34953a3a05a",
   "metadata": {},
   "outputs": [],
   "source": [
    "# Filter out questions without answers\n",
    "filtered_data = data[data['answers'].apply(lambda x: x[0] != 'No Answer Present.')]"
   ]
  },
  {
   "cell_type": "code",
   "execution_count": 9,
   "id": "9a2e5d35-1a15-4c0e-8f9b-be3e3581ba4d",
   "metadata": {
    "scrolled": true
   },
   "outputs": [
    {
     "data": {
      "text/html": [
       "<div>\n",
       "<style scoped>\n",
       "    .dataframe tbody tr th:only-of-type {\n",
       "        vertical-align: middle;\n",
       "    }\n",
       "\n",
       "    .dataframe tbody tr th {\n",
       "        vertical-align: top;\n",
       "    }\n",
       "\n",
       "    .dataframe thead th {\n",
       "        text-align: right;\n",
       "    }\n",
       "</style>\n",
       "<table border=\"1\" class=\"dataframe\">\n",
       "  <thead>\n",
       "    <tr style=\"text-align: right;\">\n",
       "      <th></th>\n",
       "      <th>is_selected</th>\n",
       "      <th>passage_text</th>\n",
       "      <th>url</th>\n",
       "    </tr>\n",
       "  </thead>\n",
       "  <tbody>\n",
       "    <tr>\n",
       "      <th>0</th>\n",
       "      <td>0</td>\n",
       "      <td>A company is incorporated in a specific nation...</td>\n",
       "      <td>http://www.wisegeek.com/what-is-a-corporation.htm</td>\n",
       "    </tr>\n",
       "    <tr>\n",
       "      <th>1</th>\n",
       "      <td>0</td>\n",
       "      <td>Today, there is a growing community of more th...</td>\n",
       "      <td>https://www.bcorporation.net/what-are-b-corps</td>\n",
       "    </tr>\n",
       "    <tr>\n",
       "      <th>2</th>\n",
       "      <td>0</td>\n",
       "      <td>Corporation definition, an association of indi...</td>\n",
       "      <td>http://www.dictionary.com/browse/corporation</td>\n",
       "    </tr>\n",
       "    <tr>\n",
       "      <th>3</th>\n",
       "      <td>0</td>\n",
       "      <td>Examples of corporation in a Sentence. 1  He w...</td>\n",
       "      <td>https://www.merriam-webster.com/dictionary/cor...</td>\n",
       "    </tr>\n",
       "    <tr>\n",
       "      <th>4</th>\n",
       "      <td>0</td>\n",
       "      <td>1: a government-owned corporation (as a utilit...</td>\n",
       "      <td>https://www.merriam-webster.com/dictionary/cor...</td>\n",
       "    </tr>\n",
       "  </tbody>\n",
       "</table>\n",
       "</div>"
      ],
      "text/plain": [
       "   is_selected                                       passage_text  \\\n",
       "0            0  A company is incorporated in a specific nation...   \n",
       "1            0  Today, there is a growing community of more th...   \n",
       "2            0  Corporation definition, an association of indi...   \n",
       "3            0  Examples of corporation in a Sentence. 1  He w...   \n",
       "4            0  1: a government-owned corporation (as a utilit...   \n",
       "\n",
       "                                                 url  \n",
       "0  http://www.wisegeek.com/what-is-a-corporation.htm  \n",
       "1      https://www.bcorporation.net/what-are-b-corps  \n",
       "2       http://www.dictionary.com/browse/corporation  \n",
       "3  https://www.merriam-webster.com/dictionary/cor...  \n",
       "4  https://www.merriam-webster.com/dictionary/cor...  "
      ]
     },
     "execution_count": 9,
     "metadata": {},
     "output_type": "execute_result"
    }
   ],
   "source": [
    "# Load first 100 questions for testing\n",
    "chunks = []\n",
    "for i in range(100):\n",
    "  chunks.append(pd.DataFrame(filtered_data.passages.iloc[i]))\n",
    "chunks_table = pd.concat(chunks)\n",
    "chunks_table.head()"
   ]
  },
  {
   "cell_type": "code",
   "execution_count": 10,
   "id": "32a32c51-be1a-485d-a93e-b448a733fad6",
   "metadata": {},
   "outputs": [],
   "source": [
    "from uuid import uuid4\n",
    "chunks_table['id'] = chunks_table.apply(lambda _: str(uuid4()), axis=1)"
   ]
  },
  {
   "cell_type": "code",
   "execution_count": 11,
   "id": "3718de40-50e2-488a-9826-4e21f3317648",
   "metadata": {},
   "outputs": [
    {
     "data": {
      "text/html": [
       "<div>\n",
       "<style scoped>\n",
       "    .dataframe tbody tr th:only-of-type {\n",
       "        vertical-align: middle;\n",
       "    }\n",
       "\n",
       "    .dataframe tbody tr th {\n",
       "        vertical-align: top;\n",
       "    }\n",
       "\n",
       "    .dataframe thead th {\n",
       "        text-align: right;\n",
       "    }\n",
       "</style>\n",
       "<table border=\"1\" class=\"dataframe\">\n",
       "  <thead>\n",
       "    <tr style=\"text-align: right;\">\n",
       "      <th></th>\n",
       "      <th>is_selected</th>\n",
       "      <th>passage_text</th>\n",
       "      <th>url</th>\n",
       "      <th>id</th>\n",
       "    </tr>\n",
       "  </thead>\n",
       "  <tbody>\n",
       "    <tr>\n",
       "      <th>0</th>\n",
       "      <td>0</td>\n",
       "      <td>A company is incorporated in a specific nation...</td>\n",
       "      <td>http://www.wisegeek.com/what-is-a-corporation.htm</td>\n",
       "      <td>71a5f0be-d8fd-4429-a5c5-2283fd29813b</td>\n",
       "    </tr>\n",
       "    <tr>\n",
       "      <th>1</th>\n",
       "      <td>0</td>\n",
       "      <td>Today, there is a growing community of more th...</td>\n",
       "      <td>https://www.bcorporation.net/what-are-b-corps</td>\n",
       "      <td>5b763bd9-f437-4932-84ca-24450666355b</td>\n",
       "    </tr>\n",
       "    <tr>\n",
       "      <th>2</th>\n",
       "      <td>0</td>\n",
       "      <td>Corporation definition, an association of indi...</td>\n",
       "      <td>http://www.dictionary.com/browse/corporation</td>\n",
       "      <td>0fecc1a1-a1d2-4123-82e4-7a3685808ea4</td>\n",
       "    </tr>\n",
       "    <tr>\n",
       "      <th>3</th>\n",
       "      <td>0</td>\n",
       "      <td>Examples of corporation in a Sentence. 1  He w...</td>\n",
       "      <td>https://www.merriam-webster.com/dictionary/cor...</td>\n",
       "      <td>d5abefe9-b0bb-41d5-ac03-79abffd458ca</td>\n",
       "    </tr>\n",
       "    <tr>\n",
       "      <th>4</th>\n",
       "      <td>0</td>\n",
       "      <td>1: a government-owned corporation (as a utilit...</td>\n",
       "      <td>https://www.merriam-webster.com/dictionary/cor...</td>\n",
       "      <td>bf92f15f-426a-4689-ae4b-6e432ae0b703</td>\n",
       "    </tr>\n",
       "  </tbody>\n",
       "</table>\n",
       "</div>"
      ],
      "text/plain": [
       "   is_selected                                       passage_text  \\\n",
       "0            0  A company is incorporated in a specific nation...   \n",
       "1            0  Today, there is a growing community of more th...   \n",
       "2            0  Corporation definition, an association of indi...   \n",
       "3            0  Examples of corporation in a Sentence. 1  He w...   \n",
       "4            0  1: a government-owned corporation (as a utilit...   \n",
       "\n",
       "                                                 url  \\\n",
       "0  http://www.wisegeek.com/what-is-a-corporation.htm   \n",
       "1      https://www.bcorporation.net/what-are-b-corps   \n",
       "2       http://www.dictionary.com/browse/corporation   \n",
       "3  https://www.merriam-webster.com/dictionary/cor...   \n",
       "4  https://www.merriam-webster.com/dictionary/cor...   \n",
       "\n",
       "                                     id  \n",
       "0  71a5f0be-d8fd-4429-a5c5-2283fd29813b  \n",
       "1  5b763bd9-f437-4932-84ca-24450666355b  \n",
       "2  0fecc1a1-a1d2-4123-82e4-7a3685808ea4  \n",
       "3  d5abefe9-b0bb-41d5-ac03-79abffd458ca  \n",
       "4  bf92f15f-426a-4689-ae4b-6e432ae0b703  "
      ]
     },
     "execution_count": 11,
     "metadata": {},
     "output_type": "execute_result"
    }
   ],
   "source": [
    "chunks_table.head()"
   ]
  },
  {
   "cell_type": "markdown",
   "id": "76af5e11-2438-48e8-b14a-a4521225865d",
   "metadata": {
    "jp-MarkdownHeadingCollapsed": true
   },
   "source": [
    "## Setting Up ChromaDB\n",
    "\n",
    "We use ChromaDB to store document embeddings and perform similarity searches. This section:\n",
    "1. Initializes ChromaDB with embeddings.\n",
    "2. Adds the preprocessed data chunks to the database.\n",
    "3. Verifies the embedding and retrieval setup.\n",
    "\n",
    "### Objectives:\n",
    "- Use `HuggingFaceEmbeddings` for vectorizing text.\n",
    "- Store embeddings persistently for efficient retrieval."
   ]
  },
  {
   "cell_type": "code",
   "execution_count": 15,
   "id": "20bbc5c7-a168-4bfe-9ffc-849c5a4b9da0",
   "metadata": {},
   "outputs": [],
   "source": [
    "# ! pip install sentence-transformers"
   ]
  },
  {
   "cell_type": "code",
   "execution_count": 12,
   "id": "e45b8c8a-09cb-460b-b8b4-5c82e6405133",
   "metadata": {},
   "outputs": [],
   "source": [
    "from langchain_huggingface import HuggingFaceEmbeddings\n",
    "\n",
    "embeddings = HuggingFaceEmbeddings(model_name=\"BAAI/bge-m3\")"
   ]
  },
  {
   "cell_type": "code",
   "execution_count": 13,
   "id": "15721b6a-8a56-42a2-9664-f7cafdd93a85",
   "metadata": {},
   "outputs": [],
   "source": [
    "from langchain_chroma import Chroma"
   ]
  },
  {
   "cell_type": "code",
   "execution_count": 14,
   "id": "97ab1add-5856-4d28-b94c-5baafb46f34d",
   "metadata": {},
   "outputs": [],
   "source": [
    "# Set up ChromaDB with persistence\n",
    "vector_store = Chroma(\n",
    "    collection_name=\"Q_A_dataset\",\n",
    "    embedding_function=embeddings,\n",
    "    persist_directory=\"./chroma_Q_A_db\"  # Path to store data\n",
    ")"
   ]
  },
  {
   "cell_type": "code",
   "execution_count": 15,
   "id": "be331446-6df0-49d6-ac50-0635496bbd1d",
   "metadata": {},
   "outputs": [
    {
     "name": "stdout",
     "output_type": "stream",
     "text": [
      "Embedding Function in Chroma: model_name='BAAI/bge-m3' cache_folder=None model_kwargs={} encode_kwargs={} multi_process=False show_progress=False\n"
     ]
    }
   ],
   "source": [
    "print(\"Embedding Function in Chroma:\", vector_store._embedding_function)"
   ]
  },
  {
   "cell_type": "code",
   "execution_count": 20,
   "id": "9c727442-051a-4efd-b848-95605abdcfe5",
   "metadata": {},
   "outputs": [],
   "source": [
    "# ADD documents\n",
    "from langchain_core.documents import Document\n",
    "batch_size = 20\n",
    "offset =10\n",
    "chunks_table.reset_index(drop=True, inplace=True)\n",
    "for i in range(0, len(chunks_table), batch_size):\n",
    "  batch = chunks_table.iloc[i:i+batch_size]\n",
    "  documents = [Document(\n",
    "      page_content=batch.iloc[j].get('passage_text'),\n",
    "      metadata={'url':batch.iloc[j].get('url')},\n",
    "      id = batch.iloc[j].get('id')\n",
    "      ) for j in range(len(batch))]\n",
    "\n",
    "  vector_store.add_documents(documents, ids = batch['id'].to_list())"
   ]
  },
  {
   "cell_type": "markdown",
   "id": "307c0499-7730-45c0-ad5f-61f3da0db738",
   "metadata": {
    "jp-MarkdownHeadingCollapsed": true
   },
   "source": [
    "## Building the Basic RAG System\n",
    "\n",
    "This section implements the first version of the RAG pipeline. The pipeline:\n",
    "1. Retrieves top-k documents from ChromaDB based on similarity.\n",
    "2. Combines retrieved context with the question to generate an answer.\n",
    "\n",
    "### Steps:\n",
    "- Perform a similarity search on ChromaDB.\n",
    "- Generate answers using LangChain."
   ]
  },
  {
   "cell_type": "code",
   "execution_count": 16,
   "id": "da5da2a4-4f39-4af8-9a3d-25dabb832049",
   "metadata": {},
   "outputs": [],
   "source": [
    "questions = filtered_data['query'].to_list()[:100]"
   ]
  },
  {
   "cell_type": "code",
   "execution_count": 17,
   "id": "d235f6cb-bb33-47f3-8b80-ab748e19607f",
   "metadata": {},
   "outputs": [],
   "source": [
    "def pretty_print_docs(docs):\n",
    "    print(\n",
    "        f\"\\n{'-' * 100}\\n\".join(\n",
    "            [f\"Document {i+1}:\\n\\n\" + d.page_content for i, d in enumerate(docs)]\n",
    "        )\n",
    "    )"
   ]
  },
  {
   "cell_type": "code",
   "execution_count": 18,
   "id": "578e7fda-d481-44d0-8d54-d16b3b2da0fc",
   "metadata": {},
   "outputs": [
    {
     "name": "stdout",
     "output_type": "stream",
     "text": [
      ". what is a corporation?\n",
      "Document 1:\n",
      "\n",
      "McDonald's Corporation is one of the most recognizable corporations in the world. A corporation is a company or group of people authorized to act as a single entity (legally a person) and recognized as such in law. Early incorporated entities were established by charter (i.e. by an ad hoc act granted by a monarch or passed by a parliament or legislature).\n",
      "----------------------------------------------------------------------------------------------------\n",
      "Document 2:\n",
      "\n",
      "Corporation definition, an association of individuals, created by law or under authority of law, having a continuous existence independent of the existences of its members, and powers and liabilities distinct from those of its members. See more.\n"
     ]
    }
   ],
   "source": [
    "question_index = 0\n",
    "results = vector_store.similarity_search(\n",
    "    questions[question_index],\n",
    "    k=2,\n",
    ")\n",
    "print(questions[0])\n",
    "pretty_print_docs(results)"
   ]
  },
  {
   "cell_type": "code",
   "execution_count": 19,
   "id": "7e83ed1f-f95b-49bb-8830-53e08c2a56b0",
   "metadata": {},
   "outputs": [],
   "source": [
    "top_k = 5\n",
    "retriever = vector_store.as_retriever(search_kwargs={\"k\": top_k})"
   ]
  },
  {
   "cell_type": "code",
   "execution_count": 20,
   "id": "ec830938-d505-47ca-9ef6-8fb3e1c4b8c5",
   "metadata": {},
   "outputs": [],
   "source": [
    "results = retriever.invoke(questions[0])"
   ]
  },
  {
   "cell_type": "code",
   "execution_count": 21,
   "id": "73ed60a1-add5-45c0-8cdb-af6a12b2e88d",
   "metadata": {},
   "outputs": [
    {
     "name": "stdout",
     "output_type": "stream",
     "text": [
      ". what is a corporation?\n",
      "Document 1:\n",
      "\n",
      "McDonald's Corporation is one of the most recognizable corporations in the world. A corporation is a company or group of people authorized to act as a single entity (legally a person) and recognized as such in law. Early incorporated entities were established by charter (i.e. by an ad hoc act granted by a monarch or passed by a parliament or legislature).\n",
      "----------------------------------------------------------------------------------------------------\n",
      "Document 2:\n",
      "\n",
      "Corporation definition, an association of individuals, created by law or under authority of law, having a continuous existence independent of the existences of its members, and powers and liabilities distinct from those of its members. See more.\n",
      "----------------------------------------------------------------------------------------------------\n",
      "Document 3:\n",
      "\n",
      "A company is incorporated in a specific nation, often within the bounds of a smaller subset of that nation, such as a state or province. The corporation is then governed by the laws of incorporation in that state. A corporation may issue stock, either private or public, or may be classified as a non-stock corporation. If stock is issued, the corporation will usually be governed by its shareholders, either directly or indirectly.\n",
      "----------------------------------------------------------------------------------------------------\n",
      "Document 4:\n",
      "\n",
      "1: a government-owned corporation (as a utility or railroad) engaged in a profit-making enterprise that may require the exercise of powers unique to government (as eminent domain) — called also government corporation, publicly held corporation\n",
      "----------------------------------------------------------------------------------------------------\n",
      "Document 5:\n",
      "\n",
      "Examples of corporation in a Sentence. 1  He works as a consultant for several large corporations. 2  a substantial corporation that showed that he was a sucker for all-you-can-eat buffets.\n"
     ]
    }
   ],
   "source": [
    "print(questions[0])\n",
    "pretty_print_docs(results)"
   ]
  },
  {
   "cell_type": "code",
   "execution_count": 22,
   "id": "c9b9c301-f950-425a-bc1c-ad0a5842d584",
   "metadata": {},
   "outputs": [
    {
     "name": "stderr",
     "output_type": "stream",
     "text": [
      "D:\\miniconda3\\envs\\RAG\\Lib\\site-packages\\langsmith\\client.py:256: LangSmithMissingAPIKeyWarning: API key must be provided when using hosted LangSmith API\n",
      "  warnings.warn(\n"
     ]
    }
   ],
   "source": [
    "from langchain import hub\n",
    "rag_template = hub.pull(\"rlm/rag-prompt\")"
   ]
  },
  {
   "cell_type": "code",
   "execution_count": 23,
   "id": "da28528e-839e-4442-9e9b-8f60139853b5",
   "metadata": {},
   "outputs": [
    {
     "data": {
      "text/plain": [
       "ChatPromptTemplate(input_variables=['context', 'question'], input_types={}, partial_variables={}, metadata={'lc_hub_owner': 'rlm', 'lc_hub_repo': 'rag-prompt', 'lc_hub_commit_hash': '50442af133e61576e74536c6556cefe1fac147cad032f4377b60c436e6cdcb6e'}, messages=[HumanMessagePromptTemplate(prompt=PromptTemplate(input_variables=['context', 'question'], input_types={}, partial_variables={}, template=\"You are an assistant for question-answering tasks. Use the following pieces of retrieved context to answer the question. If you don't know the answer, just say that you don't know. Use three sentences maximum and keep the answer concise.\\nQuestion: {question} \\nContext: {context} \\nAnswer:\"), additional_kwargs={})])"
      ]
     },
     "execution_count": 23,
     "metadata": {},
     "output_type": "execute_result"
    }
   ],
   "source": [
    "rag_template"
   ]
  },
  {
   "cell_type": "code",
   "execution_count": 24,
   "id": "a43fb7db-5150-4945-987d-70da690df93d",
   "metadata": {},
   "outputs": [],
   "source": [
    "from langchain_core.runnables import RunnableMap, RunnablePassthrough\n",
    "from langchain_core.output_parsers import StrOutputParser\n",
    "\n",
    "rag_chain = (\n",
    "    RunnableMap({\n",
    "        \"context\": retriever,            \n",
    "        \"question\": RunnablePassthrough()  \n",
    "    })\n",
    "    | rag_template  \n",
    "    | llm           \n",
    "    | StrOutputParser()  \n",
    ")"
   ]
  },
  {
   "cell_type": "code",
   "execution_count": 33,
   "id": "f666a794-9603-431b-ab5c-a528816e32b5",
   "metadata": {},
   "outputs": [],
   "source": [
    "answers = filtered_data['answers'].to_list()[0:100]"
   ]
  },
  {
   "cell_type": "code",
   "execution_count": 55,
   "id": "9e31817d-b816-42f8-b252-ddded1d32f7c",
   "metadata": {},
   "outputs": [
    {
     "name": "stdout",
     "output_type": "stream",
     "text": [
      "symptoms of a dying mouse\n",
      "I don't know the specific symptoms of a dying mouse, but I can tell you that if the mouse becomes limp and struggles to walk, it's crucial to take it to the vet as soon as possible. The provided context mentions various symptoms such as runny eyes, sneezing, wheezing, shaking, fluctuating body temperature, tiredness, loss of appetite, dull coat, labored breathing, and hair loss. However, I don't have a comprehensive list of all possible symptoms of a dying mouse.\n"
     ]
    }
   ],
   "source": [
    "indx = 2\n",
    "print(questions[indx])\n",
    "answer = rag_chain.invoke(questions[indx])\n",
    "print(answer)"
   ]
  },
  {
   "cell_type": "code",
   "execution_count": 124,
   "id": "83a547b4-3884-46e0-bd5b-e8d1e43c8d44",
   "metadata": {},
   "outputs": [
    {
     "name": "stdout",
     "output_type": "stream",
     "text": [
      "['Globally 8,640,000 lightning strikes per day.']\n"
     ]
    }
   ],
   "source": [
    "print(answers[indx])"
   ]
  },
  {
   "cell_type": "markdown",
   "id": "5af8b89d-7740-42bf-b1c4-6f22794aeff4",
   "metadata": {
    "jp-MarkdownHeadingCollapsed": true
   },
   "source": [
    "## RAG with Cross-Encoder Reranker\n",
    "\n",
    "To improve retrieval accuracy, we integrate a cross-encoder reranker. The reranker reorders retrieved documents based on relevance scores.\n",
    "\n",
    "### Objectives:\n",
    "- Use `HuggingFaceCrossEncoder` for reranking.\n",
    "- Enhance the quality of retrieved context before answer generation."
   ]
  },
  {
   "cell_type": "code",
   "execution_count": 25,
   "id": "ad812247-d7a1-43f5-a8be-cb7462a44a83",
   "metadata": {},
   "outputs": [],
   "source": [
    "from langchain.retrievers import ContextualCompressionRetriever\n",
    "from langchain.retrievers.document_compressors import CrossEncoderReranker\n",
    "from langchain_community.cross_encoders import HuggingFaceCrossEncoder"
   ]
  },
  {
   "cell_type": "code",
   "execution_count": 26,
   "id": "d9f3f401-fd60-48eb-9556-2750ce320799",
   "metadata": {},
   "outputs": [],
   "source": [
    "top_n = 3\n",
    "crossencoder_model = HuggingFaceCrossEncoder(model_name=\"BAAI/bge-reranker-base\")\n",
    "compressor = CrossEncoderReranker(model=crossencoder_model, top_n=top_n)\n",
    "compression_retriever = ContextualCompressionRetriever(\n",
    "    base_compressor=compressor, base_retriever=retriever\n",
    ")"
   ]
  },
  {
   "cell_type": "code",
   "execution_count": 27,
   "id": "bf483712-5f34-4378-8c69-ec557228220d",
   "metadata": {},
   "outputs": [
    {
     "name": "stdout",
     "output_type": "stream",
     "text": [
      "Document 1:\n",
      "\n",
      "Although many lightning flashes are simply cloud-to-cloud, there are as many as 9,000,000 reported lightning strikes that damage buildings, trees, and other objects every year. Worldwide, it is estimated that of an annual 1.4 billion lightning bolts, 25% (more than 350 million) will strike the Earth's surface or objects on the surface. The vast majority of these strikes, however, occur in the tropics, and in unpopulated areas. 100 times per second; Lightning can strike over a thousand times in one storm. So, lightning strikes the earth over a million times a day. Globally, 8,640,000 lightning strikes per day.\n",
      "----------------------------------------------------------------------------------------------------\n",
      "Document 2:\n",
      "\n",
      "Quick Answer. Lightning strikes reach the ground on Earth as much as 8 million times per day or 100 times per second, according to the National Severe Storms Laboratory. Out of all the lightning strikes in the world, the United States accounts for about 20 million of the total number of lightning strikes each year. Keep Learning.\n",
      "----------------------------------------------------------------------------------------------------\n",
      "Document 3:\n",
      "\n",
      "Approximately 300,000 lightning strikes hit the ground in Britain each year with 30 percent of reported lightning strikes causing severe damage. Each year 30 to 60 people are recorded as being struck by lightning, 3 of whom, on average, die (14 in 1984 compared to 2 in 2005).\n"
     ]
    }
   ],
   "source": [
    "compressed_docs = compression_retriever.invoke(questions[3])\n",
    "pretty_print_docs(compressed_docs)"
   ]
  },
  {
   "cell_type": "code",
   "execution_count": 28,
   "id": "1b03591a-92d9-4305-acc7-9dfa9317c0d5",
   "metadata": {},
   "outputs": [],
   "source": [
    "rag_chain_reranker = (\n",
    "    RunnableMap({\n",
    "        \"context\": compression_retriever,            \n",
    "        \"question\": RunnablePassthrough()  \n",
    "    })\n",
    "    | rag_template  \n",
    "    | llm           \n",
    "    | StrOutputParser()  \n",
    ")"
   ]
  },
  {
   "cell_type": "code",
   "execution_count": 29,
   "id": "9a05c3f6-ac6b-44c2-8c3e-6b6358a24b91",
   "metadata": {},
   "outputs": [
    {
     "name": "stdout",
     "output_type": "stream",
     "text": [
      "symptoms of a dying mouse\n",
      "The symptoms of a dying mouse include runny eyes, sneezing, wheezing, shaking, fluctuating body temperature, tiredness, and loss of appetite. If these symptoms persist or worsen, the mouse may become limp and struggle to walk, indicating it needs veterinary attention immediately. A dirty environment with dusty sawdust can also cause fatal respiratory issues in mice.\n"
     ]
    }
   ],
   "source": [
    "indx = 2\n",
    "print(questions[indx])\n",
    "answer = rag_chain_reranker.invoke(questions[indx])\n",
    "print(answer)"
   ]
  },
  {
   "cell_type": "markdown",
   "id": "924e271b-9175-4560-8efb-006f3f562d35",
   "metadata": {
    "jp-MarkdownHeadingCollapsed": true
   },
   "source": [
    "## Evaluation\n",
    "\n",
    "This section evaluates the QA system using multiple metrics:\n",
    "1. **BLEU Score**: Measures overlap of n-grams between generated and reference answers.\n",
    "2. **ROUGE Score**: Captures recall-oriented overlap.\n",
    "3. **BERTScore**: Evaluates semantic similarity between generated and reference answers.\n",
    "\n",
    "### Objectives:\n",
    "- Compute precision, recall, and F1 scores."
   ]
  },
  {
   "cell_type": "code",
   "execution_count": 30,
   "id": "b0f696cd-77f3-41c3-a437-dfb27b33744e",
   "metadata": {},
   "outputs": [],
   "source": [
    "import math\n",
    "from collections import defaultdict"
   ]
  },
  {
   "cell_type": "code",
   "execution_count": 31,
   "id": "e8f8b654-3e44-463d-b58f-4954a5ad6700",
   "metadata": {},
   "outputs": [],
   "source": [
    "def get_n_gram_counts(words, n=4):\n",
    "\n",
    "    n_gram_counts = { i: defaultdict(int) for i in range(1, n+1) }\n",
    "\n",
    "    for curr_n in range(1, n+1):\n",
    "        for i in range(len(words)-curr_n+1):\n",
    "            current_gram = tuple(words[i:i+curr_n])\n",
    "            n_gram_counts[curr_n][current_gram] += 1\n",
    "\n",
    "    return n_gram_counts\n",
    "\n",
    "def get_bleu_score(predicted_text, target_text):\n",
    "\n",
    "    predicted_words, target_words = predicted_text.split(), target_text.split()\n",
    "\n",
    "    num_predicted_words = len(predicted_words)\n",
    "    num_target_words = len(target_words)\n",
    "\n",
    "    brevity_penalty = min(1, math.exp(1 - (num_target_words/num_predicted_words)))\n",
    "\n",
    "    predicted_n_gram_counts = get_n_gram_counts(predicted_words)\n",
    "    target_n_gram_counts = get_n_gram_counts(target_words)\n",
    "\n",
    "    total_precision = 1\n",
    "\n",
    "    for n in range(1, 5):\n",
    "        num_present = 0\n",
    "        for n_gram in predicted_n_gram_counts[n]:\n",
    "            num_present += min(predicted_n_gram_counts[n][n_gram], target_n_gram_counts[n][n_gram])\n",
    "        precision = num_present/(num_predicted_words-n+1)\n",
    "        total_precision *= precision**(0.25)\n",
    "    \n",
    "    bleu_score = brevity_penalty*total_precision\n",
    "\n",
    "    return bleu_score"
   ]
  },
  {
   "cell_type": "code",
   "execution_count": 34,
   "id": "55a4bd66-ad55-4c00-84a3-4a42bfc5390d",
   "metadata": {},
   "outputs": [
    {
     "data": {
      "text/plain": [
       "0.23496329193500498"
      ]
     },
     "execution_count": 34,
     "metadata": {},
     "output_type": "execute_result"
    }
   ],
   "source": [
    "get_bleu_score(answer, answers[indx][0])"
   ]
  },
  {
   "cell_type": "code",
   "execution_count": 35,
   "id": "2140db1b-ea25-4246-a76d-c278621d5f82",
   "metadata": {},
   "outputs": [],
   "source": [
    "def get_rogue_score(predicted_text, target_text, n):\n",
    "\n",
    "    predicted_words, target_words = predicted_text.split(), target_text.split()\n",
    "\n",
    "    num_predicted_words = len(predicted_words)\n",
    "    num_target_words = len(target_words)\n",
    "\n",
    "    predicted_n_gram_counts = get_n_gram_counts(predicted_words)\n",
    "    target_n_gram_counts = get_n_gram_counts(target_words)\n",
    "\n",
    "    num_present = 0\n",
    "    for n_gram in predicted_n_gram_counts[n]:\n",
    "        num_present += min(predicted_n_gram_counts[n][n_gram], target_n_gram_counts[n][n_gram])\n",
    "    precision = num_present/(num_predicted_words-n+1)\n",
    "    recall = num_present/(num_target_words-n+1)\n",
    "\n",
    "    f1 = 2*precision*recall/(precision + recall)\n",
    "\n",
    "    return f1"
   ]
  },
  {
   "cell_type": "code",
   "execution_count": 36,
   "id": "07d42217-77e3-4bfe-81a7-17fce14beb08",
   "metadata": {},
   "outputs": [
    {
     "data": {
      "text/plain": [
       "0.4675324675324675"
      ]
     },
     "execution_count": 36,
     "metadata": {},
     "output_type": "execute_result"
    }
   ],
   "source": [
    "get_rogue_score(answer, answers[indx][0],1)"
   ]
  },
  {
   "cell_type": "code",
   "execution_count": 37,
   "id": "46293fd2-01cc-492d-926b-88800152ee98",
   "metadata": {},
   "outputs": [
    {
     "data": {
      "text/plain": [
       "0.37333333333333335"
      ]
     },
     "execution_count": 37,
     "metadata": {},
     "output_type": "execute_result"
    }
   ],
   "source": [
    "get_rogue_score(answer, answers[indx][0],2)"
   ]
  },
  {
   "cell_type": "code",
   "execution_count": 38,
   "id": "e322d498-cc94-4f82-ab14-4636befd0c48",
   "metadata": {},
   "outputs": [],
   "source": [
    "def get_longest_common_subsequence(words1, words2):\n",
    "    # Initialize the DP table\n",
    "    n, m = len(words1), len(words2)\n",
    "    dp = [[[] for _ in range(m + 1)] for _ in range(n + 1)]\n",
    "    \n",
    "    # Fill the DP table\n",
    "    for i in range(1, n + 1):\n",
    "        for j in range(1, m + 1):\n",
    "            if words1[i - 1] == words2[j - 1]:\n",
    "                dp[i][j] = dp[i - 1][j - 1] + [words1[i - 1]]\n",
    "            else:\n",
    "                dp[i][j] = dp[i - 1][j] if len(dp[i - 1][j]) > len(dp[i][j - 1]) else dp[i][j - 1]\n",
    "    \n",
    "    # The bottom-right corner contains the LCS\n",
    "    return dp[n][m]\n",
    "\n",
    "def get_rogue_lcs_score(predicted_text, target_text):\n",
    "    # Split the texts into words\n",
    "    predicted_words, target_words = predicted_text.split(), target_text.split()\n",
    "    \n",
    "    # Get the LCS using the optimized function\n",
    "    lcs = get_longest_common_subsequence(predicted_words, target_words)\n",
    "    \n",
    "    # Print the LCS for debugging purposes\n",
    "    print(\"The longest common subsequence is:\", lcs)\n",
    "    \n",
    "    # Compute precision, recall, and F1 score\n",
    "    num_predicted_words = len(predicted_words)\n",
    "    num_target_words = len(target_words)\n",
    "    len_lcs = len(lcs)\n",
    "    \n",
    "    precision = len_lcs / num_predicted_words if num_predicted_words > 0 else 0\n",
    "    recall = len_lcs / num_target_words if num_target_words > 0 else 0\n",
    "    \n",
    "    if precision + recall == 0:\n",
    "        return 0\n",
    "    \n",
    "    f1 = 2 * precision * recall / (precision + recall)\n",
    "    return f1"
   ]
  },
  {
   "cell_type": "code",
   "execution_count": 39,
   "id": "029c60cb-c957-4817-a65f-70eb5de028bf",
   "metadata": {},
   "outputs": [
    {
     "name": "stdout",
     "output_type": "stream",
     "text": [
      "The longest common subsequence is: ['The', 'symptoms', 'of', 'a', 'dying', 'mouse', 'runny', 'eyes,', 'sneezing,', 'wheezing,', 'shaking,', 'fluctuating', 'body', 'temperature,', 'tiredness,', 'loss', 'of', 'and']\n"
     ]
    },
    {
     "data": {
      "text/plain": [
       "0.4675324675324675"
      ]
     },
     "execution_count": 39,
     "metadata": {},
     "output_type": "execute_result"
    }
   ],
   "source": [
    "get_rogue_lcs_score(answer, answers[indx][0])"
   ]
  },
  {
   "cell_type": "markdown",
   "id": "1d1c6074-796f-4cb6-93c6-d7aa0805cdc7",
   "metadata": {},
   "source": [
    "### Evaluate (BertScore)"
   ]
  },
  {
   "cell_type": "code",
   "execution_count": 40,
   "id": "be8c4769-f67a-4260-a5f0-838383e7784a",
   "metadata": {},
   "outputs": [],
   "source": [
    "# ! pip install evaluate\n",
    "# ! pip install bert_score"
   ]
  },
  {
   "cell_type": "code",
   "execution_count": 41,
   "id": "c05c12fb-6df1-40e6-8447-d164d4869c51",
   "metadata": {},
   "outputs": [],
   "source": [
    "from evaluate import load\n",
    "bertscore = load(\"bertscore\")"
   ]
  },
  {
   "cell_type": "code",
   "execution_count": 43,
   "id": "f53debbf-e393-463d-8e47-a3c20645f035",
   "metadata": {},
   "outputs": [],
   "source": [
    "scores = bertscore.compute(predictions=[answer], references=answers[indx], lang=\"en\")"
   ]
  },
  {
   "cell_type": "code",
   "execution_count": 44,
   "id": "7db5643b-0a66-4ae7-b54a-366c8c4ef5ce",
   "metadata": {},
   "outputs": [
    {
     "data": {
      "text/plain": [
       "([0.902734100818634], [0.9655043482780457], [0.9330647587776184])"
      ]
     },
     "execution_count": 44,
     "metadata": {},
     "output_type": "execute_result"
    }
   ],
   "source": [
    "p, r, f1 = scores.get('precision'), scores.get('recall'), scores.get('f1')\n",
    "p, r, f1"
   ]
  },
  {
   "cell_type": "markdown",
   "id": "3ea3bddb-539f-4b52-ab3d-733f62fbca16",
   "metadata": {
    "jp-MarkdownHeadingCollapsed": true
   },
   "source": [
    "## Results and Visualization\n",
    "\n",
    "### Summary of Results:\n",
    "The evaluation results are visualized to highlight:\n",
    "1. Precision, recall, and F1 scores across 100 QA pairs.\n",
    "\n",
    "### Example Visualization:\n",
    "We plot the distribution of precision, recall, and F1 scores."
   ]
  },
  {
   "cell_type": "code",
   "execution_count": 47,
   "id": "a23a85dd-f16e-4a48-a28d-8560c9d2b008",
   "metadata": {},
   "outputs": [
    {
     "data": {
      "text/plain": [
       "[{'question': '. what is a corporation?',\n",
       "  'answer': 'A corporation is an association of individuals created by law or under authority of law, having a continuous existence independent of its members, with distinct powers and liabilities. It is recognized as a single entity in law and can issue stock to govern itself. Corporations are governed by the laws of incorporation in their state or province.',\n",
       "  'true_answer': 'A corporation is a company or group of people authorized to act as a single entity and recognized as such in law.',\n",
       "  'precision': [0.8773943185806274],\n",
       "  'recall': [0.9258008003234863],\n",
       "  'f1': [0.9009478092193604]},\n",
       " {'question': 'why did rachel carson write an obligation to endure',\n",
       "  'answer': 'I don\\'t know the specific reason why Rachel Carson wrote \"The Obligation to Endure\". However, it appears that she was motivated by her passion for the environment and concern for its well-being. The essay is part of her larger work \"Silent Spring\", which critiques the use of pesticides and insecticides.',\n",
       "  'true_answer': 'Rachel Carson writes The Obligation to Endure because believes that as man tries to eliminate unwanted insects and weeds, however he is actually causing more problems by polluting the environment.',\n",
       "  'precision': [0.8683347702026367],\n",
       "  'recall': [0.8855201005935669],\n",
       "  'f1': [0.8768432140350342]},\n",
       " {'question': 'symptoms of a dying mouse',\n",
       "  'answer': 'The symptoms of a dying mouse include runny eyes, sneezing, wheezing, shaking, fluctuating body temperature, tiredness, and loss of appetite. If these symptoms persist or worsen, the mouse may become limp and struggle to walk, indicating a need for veterinary attention. A dirty environment with dusty sawdust can also cause fatal respiratory issues in mice.',\n",
       "  'true_answer': 'The symptoms of a dying mouse are runny eyes, sneezing, wheezing, shaking, fluctuating body temperature, tiredness, loss of appetite, and dull coat.',\n",
       "  'precision': [0.903174102306366],\n",
       "  'recall': [0.9657931923866272],\n",
       "  'f1': [0.9334346652030945]},\n",
       " {'question': 'average number of lightning strikes per day',\n",
       "  'answer': 'According to the retrieved context, it is estimated that lightning strikes the Earth over a million times a day. This translates to approximately 1,000,000 lightning strikes per day. However, another source states that there are around 8,640,000 lightning strikes per day globally.',\n",
       "  'true_answer': 'Globally 8,640,000 lightning strikes per day.',\n",
       "  'precision': [0.8683760166168213],\n",
       "  'recall': [0.9111716747283936],\n",
       "  'f1': [0.8892592191696167]},\n",
       " {'question': 'can you burn your lawn with fertilizer',\n",
       "  'answer': \"I don't know if you can directly burn your lawn with fertilizer, as the context provided focuses on preventing fertilizer burn and its effects on plants rather than lawn damage specifically. However, excessive application or using too much fertilizer can lead to soil degradation and potentially harm the lawn. It's unclear whether burning a lawn is a direct result of fertilizer use without further information.\",\n",
       "  'true_answer': 'Yes, over fertilizing can burn lawn.',\n",
       "  'precision': [0.8429535031318665],\n",
       "  'recall': [0.8976069092750549],\n",
       "  'f1': [0.869422197341919]},\n",
       " {'question': 'goch meaning',\n",
       "  'answer': 'The word \"Goch\" is derived from the Welsh word \"coch\", which means red. It was originally a nickname for someone with a ruddy or red-complexioned person, later becoming a hereditary surname. The name is associated with people of Welsh origin.',\n",
       "  'true_answer': 'The meaning of the name Goch is red.',\n",
       "  'precision': [0.8421974778175354],\n",
       "  'recall': [0.9162560701370239],\n",
       "  'f1': [0.877667248249054]},\n",
       " {'question': 'symptoms of a gastric ulcer in women',\n",
       "  'answer': 'Symptoms of a gastric ulcer in women may include nausea and/or vomiting, changes or loss of appetite, and changes in weight leading to unintended weight loss. The presence of blood in stools can also be a sign. Pain, often dull and right after eating, is another common symptom.',\n",
       "  'true_answer': 'acidic and extremely painful is symptom of a gastric ulcer in women.',\n",
       "  'precision': [0.8447601795196533],\n",
       "  'recall': [0.9157849550247192],\n",
       "  'f1': [0.878839910030365]},\n",
       " {'question': 'how often can ativan be taken',\n",
       "  'answer': 'I don\\'t know the specific frequency of Ativan use that is considered \"too much.\" However, taking higher dosages or for a longer period than recommended by a healthcare provider can lead to serious problems. The optimal frequency of Ativan use varies depending on individual circumstances and should be determined in consultation with a healthcare professional.',\n",
       "  'true_answer': 'For anxiety treatment is 1 mg two to three times daily and for insomnia is 2 mg to 4 mg once daily at bedtime.',\n",
       "  'precision': [0.814726710319519],\n",
       "  'recall': [0.8146615028381348],\n",
       "  'f1': [0.8146941065788269]},\n",
       " {'question': 'how many years did william bradford serve as governor of plymouth colony?',\n",
       "  'answer': \"I don't know the exact number of years William Bradford served as governor of Plymouth Colony, but I do know that he served five times covering about thirty years between 1621 and 1657. The exact duration of his terms is not specified. He served for approximately 36 years (from 1621 to 1657).\",\n",
       "  'true_answer': 'William Bradford served thirty years as Governor of Plymouth colony.',\n",
       "  'precision': [0.8324556350708008],\n",
       "  'recall': [0.9375934600830078],\n",
       "  'f1': [0.8819020390510559]},\n",
       " {'question': 'albany mn population',\n",
       "  'answer': \"I don't know the current population of Albany, MN. According to the retrieved context, the last known population estimate was 2,662 people in 2017, but I couldn't find more recent data. The 2010 census reported a population of 2,561.\",\n",
       "  'true_answer': '2,662',\n",
       "  'precision': [0.7981120347976685],\n",
       "  'recall': [0.8542654514312744],\n",
       "  'f1': [0.825234591960907]},\n",
       " {'question': 'define preventive',\n",
       "  'answer': 'The term \"preventive\" refers to actions or measures taken to prevent something from happening or to hinder its occurrence. It can also mean carried out to deter military aggression. In a medical context, it means slowing the development of an illness through prophylactic measures.',\n",
       "  'true_answer': 'It means preventing, hindering, or acting as an obstacle to.',\n",
       "  'precision': [0.842249870300293],\n",
       "  'recall': [0.8842079043388367],\n",
       "  'f1': [0.8627189993858337]},\n",
       " {'question': 'causes of achalasia',\n",
       "  'answer': 'The causes of achalasia are not well understood, but potential factors include viral or parasitic infections, dysphagia (difficulty swallowing), infection, heredity, or an autoimmune disease that damages the esophagus. The exact cause is unknown and theories on causation invoke various mechanisms. Factors such as immune system abnormalities may also play a role in the development of achalasia.',\n",
       "  'true_answer': 'An infection, heredity or an abnormality of the immune system',\n",
       "  'precision': [0.8369112610816956],\n",
       "  'recall': [0.9095243811607361],\n",
       "  'f1': [0.8717082738876343]},\n",
       " {'question': 'current weather in volcano, ca',\n",
       "  'answer': \"I don't have the most up-to-date information on the current weather in Volcano, CA. However, according to the retrieved context, the current temperature at 0am is 48 degrees with a chance of patchy rain. The current temperature at 3am is 44 degrees and clear.\",\n",
       "  'true_answer': 'The Volcano forecast for Apr 12 is 52 degrees and Patchy light rain.',\n",
       "  'precision': [0.8382904529571533],\n",
       "  'recall': [0.8859655261039734],\n",
       "  'f1': [0.8614689111709595]},\n",
       " {'question': \"how many days after ovulation can i tell i'm pregnant\",\n",
       "  'answer': \"It's possible to conceive within a 12-24 hour window after ovulation, with sperm typically reaching the egg in about 6 hours after sex. However, implantation of the fertilized egg usually occurs around 6-10 days after fertilization, not immediately after conception. This means it may take up to 11-14 days after ovulation to confirm pregnancy through a home test or missed period.\",\n",
       "  'true_answer': '6 to 10 days',\n",
       "  'precision': [0.7812404632568359],\n",
       "  'recall': [0.8446544408798218],\n",
       "  'f1': [0.8117108345031738]},\n",
       " {'question': 'how much are postage stamps right now',\n",
       "  'answer': 'The current price of a first class stamp is 49 cents. This includes a standard letter weighing up to 1 oz. The cost per additional ounce is 21 cents.',\n",
       "  'true_answer': 'The cost of a first-class postage stamp is now 49 cents.',\n",
       "  'precision': [0.8938001394271851],\n",
       "  'recall': [0.944969654083252],\n",
       "  'f1': [0.9186729192733765]},\n",
       " {'question': 'color overlay photoshop',\n",
       "  'answer': 'To apply a color overlay in Photoshop, go to Layer > Layer Style > Blending Options and select the Color Overlay option from the dialog box. This will allow you to adjust the Blend Mode, Color, and Opacity settings to achieve the desired effect. You can also use this method in Adobe Elements with similar steps.',\n",
       "  'true_answer': 'A great way to add a touch of color without making your photo look like you’ve edited the heck out of it or to add a little life to B&W photos.',\n",
       "  'precision': [0.8340331315994263],\n",
       "  'recall': [0.8601582050323486],\n",
       "  'f1': [0.8468942046165466]},\n",
       " {'question': 'symptoms of air pollution exposure',\n",
       "  'answer': 'Exposure to air pollution can cause increased respiratory symptoms, such as irritation of the airways, coughing, or difficulty breathing. Long-term exposure can also lead to decreased lung function and aggravated asthma. Additionally, it may result in chronic respiratory disease in children.',\n",
       "  'true_answer': 'High air pollution levels can cause immediate health problems including: 1 Aggravated cardiovascular and respiratory illness. 2 Added stress to heart and lungs, which must work harder to supply the body with oxygen. 3 Damaged cells in the respiratory system.',\n",
       "  'precision': [0.8840885162353516],\n",
       "  'recall': [0.86443692445755],\n",
       "  'f1': [0.8741523623466492]},\n",
       " {'question': 'average temperature cardiff wales',\n",
       "  'answer': \"I don't know the current average temperature of Cardiff, Wales. According to the retrieved context, the average high and low temperatures vary throughout the year, but no specific current temperature is provided. The hottest day of the year has an average high of 69°F (21°C) in July.\",\n",
       "  'true_answer': 'It has a mild humid temperate climate with warm summers and no dry season.',\n",
       "  'precision': [0.8140946626663208],\n",
       "  'recall': [0.8128751516342163],\n",
       "  'f1': [0.8134844899177551]},\n",
       " {'question': 'highest paying subspecialty in orthopedics',\n",
       "  'answer': 'The highest paying subspecialty in orthopedics is spine surgery, with an average annual salary of $710,055. This is significantly higher than other orthopedic specialties such as sports medicine physicians, who earn an average of $653,642. Spine surgeons are the most highly compensated orthopedic specialists.',\n",
       "  'true_answer': 'The highest paying subspecialty in orthopedics are Spine surgeons.',\n",
       "  'precision': [0.880643904209137],\n",
       "  'recall': [0.9650188684463501],\n",
       "  'f1': [0.9209027290344238]},\n",
       " {'question': '____________________ is considered the father of modern medicine.',\n",
       "  'answer': 'Hippocrates is considered the father of modern medicine because he did not believe that illness was a punishment inflicted by the gods and his contributions revolutionized the practice of medicine. He is widely regarded as one of the most important figures in the history of medicine. His legacy has endured for centuries, inspiring many physicians and medical schools.',\n",
       "  'true_answer': 'Hippocrates',\n",
       "  'precision': [0.8061966300010681],\n",
       "  'recall': [0.9444882869720459],\n",
       "  'f1': [0.8698803782463074]},\n",
       " {'question': 'does xpress bet charge to deposit money in your account',\n",
       "  'answer': 'Xpress Bet does not charge a fee to deposit money into your account, but you will be charged a convenience fee of $3.99 when using the PayNearMe method. You can fund your account using various methods such as credit/debit card, check, wire transfer, or money order. There are no membership, monthly, or per-wager fees associated with Xpress Bet.',\n",
       "  'true_answer': 'Yes',\n",
       "  'precision': [0.7574398517608643],\n",
       "  'recall': [0.8072593212127686],\n",
       "  'f1': [0.7815564870834351]},\n",
       " {'question': 'how far is faribault from winona?',\n",
       "  'answer': 'The distance from Faribault to Winona is approximately 95 miles or 154 kilometers. The driving time between the two cities is around 1 hour and 47 minutes, while the flight time is about 40 minutes. The estimated gas consumption for a car traveling this route is 4.4 gallons.',\n",
       "  'true_answer': 'The distance from Faribault to Winona is 95Miles or 154 Km.',\n",
       "  'precision': [0.8690166473388672],\n",
       "  'recall': [0.9474125504493713],\n",
       "  'f1': [0.9065228700637817]},\n",
       " {'question': 'how many days is an appraisal good for a fannie loan',\n",
       "  'answer': \"For a Fannie loan, an appraisal is generally good for 120 days from the date of the Note. However, this timeframe may be shorter depending on the specific lender's policies. In some cases, an appraisal may only be valid for 91 days before it becomes no longer acceptable.\",\n",
       "  'true_answer': '120 days from the date of the Note.',\n",
       "  'precision': [0.8439900875091553],\n",
       "  'recall': [0.9224302768707275],\n",
       "  'f1': [0.8814685940742493]},\n",
       " {'question': 'dynamics crm outlook synchronization process',\n",
       "  'answer': 'The Dynamics CRM Outlook synchronization process can occur in two ways: manual synchronization by clicking the \"Synchronize with CRM\" option, or scheduled background synchronization. The actual sync process involves a prepare sync step to query the server and retrieve entities to be synchronized. This is followed by a subscription table update to specify the SyncEntryTable name for each user.',\n",
       "  'true_answer': 'The CRM/Outlook synchronization process can occur in one of two ways: 1) manually clicking the “Synchronize with CRM” option, or 2) scheduled background synchronization. The actual CRM/Outlook sync process looks like this when kicked off: 1 Prepare sync is called to query the server to prepare all the entities which should be synchronized down from the CRM server. 2 Subscription table = Specifies the SyncEntryTable name for each user that has been created.',\n",
       "  'precision': [0.9397948980331421],\n",
       "  'recall': [0.9102776050567627],\n",
       "  'f1': [0.9248007535934448]},\n",
       " {'question': 'symptoms of an intolerance to barley',\n",
       "  'answer': 'Symptoms of an intolerance to barley may include gastrointestinal distress, such as bloating, abdominal pain, and diarrhea, as well as other non-gastrointestinal symptoms like skin rashes or respiratory issues. Some individuals with barley intolerance may also experience fatigue, headaches, or joint pain. These symptoms can vary in severity and frequency depending on the individual.',\n",
       "  'true_answer': \"The symptoms of an intolerance to barley are gastrointestinal distress, atopic dermatitis and urticaria, angioedema, anaphylaxis and food-dependant, exercise-induced anaphylaxis, wheezing and baker's asthma.\",\n",
       "  'precision': [0.8677211999893188],\n",
       "  'recall': [0.8396617770195007],\n",
       "  'f1': [0.853460967540741]},\n",
       " {'question': 'how long to recover from wisdom teeth removal',\n",
       "  'answer': 'Typically, the initial healing phase after wisdom teeth removal takes 2-3 weeks, while the surrounding bone can take 3-6 months to completely settle into place. The recovery time can range from three to four days to one week, depending on the severity of the procedure. Pain should be lessening by the second day.',\n",
       "  'true_answer': 'Wisdom teeth recovery time is three to four days.',\n",
       "  'precision': [0.8572455644607544],\n",
       "  'recall': [0.9242537021636963],\n",
       "  'f1': [0.8894894123077393]},\n",
       " {'question': 'average pharmacy tech salary',\n",
       "  'answer': \"The average pharmacy tech salary varies depending on location and employer, but according to SalaryList.com, the median salary for a Pharmacy Technician is $30,534 per year, with a range of $21,570 to $34,320. Payscale.com reports an average hourly wage of $12.68, while PharmacyTechSchools.com states that outpatient care centers and physicians' offices offer higher salaries in the $37,000-$39,000 range.\",\n",
       "  'true_answer': 'From $26,000 to $39,000 a year',\n",
       "  'precision': [0.806627631187439],\n",
       "  'recall': [0.8969576358795166],\n",
       "  'f1': [0.8493978381156921]},\n",
       " {'question': 'benefits of lymphatic drainage facial',\n",
       "  'answer': 'The benefits of lymphatic drainage on the face include reducing puffiness around the eyes and fine lines and wrinkles in facial tissue, as well as minimizing the appearance of new scars and old scar tissue. This technique can also help to reduce a \"puffy morning face\" and leave you feeling refreshed and energized. Regular facial lymphatic drainage massages can support the entire lymph system by flushing out toxins.',\n",
       "  'true_answer': '1 Skin care: For a clearer complexion and to lessen the appearance of fine lines and wrinkles in facial tissue, as well as reducing puffiness around the eyes. 2 Old scar tissue can be reduced while the appearance of new scars can be minimized.',\n",
       "  'precision': [0.8890724182128906],\n",
       "  'recall': [0.9219812154769897],\n",
       "  'f1': [0.905227780342102]},\n",
       " {'question': 'symptoms of an uti sensation',\n",
       "  'answer': 'The symptoms of a UTI include a burning sensation during urination, strong urge to urinate, pain, urinary frequency, difficulty urinating, and sometimes blood in the urine. A classic sign is feeling like you always need to go to the bathroom, even if you just went. This symptom is often accompanied by a sense of urgency.',\n",
       "  'true_answer': 'The symptoms of Urinary tract infection is burning sensation, strong urge to urinate, pain, urinary frequency, difficulty urinating, and sometimes, blood in the urine.',\n",
       "  'precision': [0.9118379354476929],\n",
       "  'recall': [0.9542747735977173],\n",
       "  'f1': [0.9325738549232483]},\n",
       " {'question': 'english is the official state language in some states like california',\n",
       "  'answer': \"I don't know that English is the official state language in California, but I do know that Spanish is widely spoken in California and other states like Texas and Florida. According to the context, there is no official language at the federal level in the United States, although some states may have their own official languages.\",\n",
       "  'true_answer': \"Half of the country's Spanish-speakers reside in California\",\n",
       "  'precision': [0.840648889541626],\n",
       "  'recall': [0.8970071077346802],\n",
       "  'f1': [0.8679140210151672]},\n",
       " {'question': 'how long is a voe valid',\n",
       "  'answer': \"I don't know the specific validity period of a VOE (Verification of Enrollment) form for Texas residents, as the provided context only mentions general guidelines for other states. However, it does state that VOE forms are valid for 30 days after issuance in the spring and fall semesters and for 90 days during the summer.\",\n",
       "  'true_answer': 'The forms are valid for 30 days after issuance in the for spring and fall  semesters and for 90 days during the summer.',\n",
       "  'precision': [0.8667585253715515],\n",
       "  'recall': [0.9375672340393066],\n",
       "  'f1': [0.9007734656333923]},\n",
       " {'question': 'how many carbohydrates in asparagus',\n",
       "  'answer': \"I don't know the exact amount of carbohydrates in asparagus, but according to one source, a half-cup of raw asparagus contains approximately 3.7 grams of carbohydrates. Another source states that cooked asparagus (boiled, drained) contains around 3.70g of carbohydrates per cup. However, I couldn't find a single definitive answer.\",\n",
       "  'true_answer': '3.7 grams carbohydrate in asparagus.',\n",
       "  'precision': [0.8480621576309204],\n",
       "  'recall': [0.9398936033248901],\n",
       "  'f1': [0.8916196227073669]},\n",
       " {'question': 'different types of memory of a computer',\n",
       "  'answer': 'There are several types of computer memory, including RAM (Random Access Memory), cache memory, flash memory, USB flash, memory cards, CDs, DVDs, DRAM (Dynamic Random Access Memory), and others. These types vary in their characteristics, such as permanence, portability, response rate, and storage capacity. Each type has its own unique features and uses in computing systems.',\n",
       "  'true_answer': 'DRAM (Dynamic Random Access Memory) and SODIMM (Small Outline Dual In-Line Memory Module).',\n",
       "  'precision': [0.8373927474021912],\n",
       "  'recall': [0.8580663800239563],\n",
       "  'f1': [0.8476035594940186]},\n",
       " {'question': 'how many calories in average apple',\n",
       "  'answer': 'An average apple contains approximately 58 calories. This information is consistent across the retrieved documents. The calorie content may vary slightly depending on the specific type of apple, but 58 calories is a commonly cited average.',\n",
       "  'true_answer': '80 calories',\n",
       "  'precision': [0.8176252841949463],\n",
       "  'recall': [0.8825912475585938],\n",
       "  'f1': [0.8488670587539673]},\n",
       " {'question': 'how much would graduate marketers make?',\n",
       "  'answer': \"Graduate marketers can expect to earn salaries ranging from around $58,000 to over $187,200 per year, depending on factors such as education level and industry. Those with a master's degree are more likely to make the median salary or higher, with some reports indicating an average salary of $78,040 per year. The top 10% of marketing managers can earn significantly more than this range.\",\n",
       "  'true_answer': '$110,000 to $130,000 per year.',\n",
       "  'precision': [0.8204074501991272],\n",
       "  'recall': [0.8912069201469421],\n",
       "  'f1': [0.8543428778648376]},\n",
       " {'question': 'can you set google chrome as your default web browser',\n",
       "  'answer': \"To set Google Chrome as your default web browser, first install Chrome if it isn't already, then run the Chrome installer after downloading it. Next, open the system settings (e.g., Start menu in Windows or Settings on macOS) and select Chrome as the default browser. Alternatively, you can also change the default browser through the Chrome settings itself, but this method may not be as reliable.\",\n",
       "  'true_answer': \"Yes, While you can set Chrome as a default browser through the settings, it's much more reliable to use the system settings to ensure the change sticks.\",\n",
       "  'precision': [0.8656570911407471],\n",
       "  'recall': [0.8998481035232544],\n",
       "  'f1': [0.8824214935302734]},\n",
       " {'question': 'how much fat is in a bubba burger',\n",
       "  'answer': \"I don't know the exact fat content for all Bubba Burger variations as the provided context only mentions specific burgers (Certified Angus Beef Burger, Turkey Burger, and Sweet Onion Burger) with varying fat percentages. The context does not provide a general answer for the amount of fat in a standard Bubba Burger.\",\n",
       "  'true_answer': '340 calories in a 1 burger serving out of which 70% fat.',\n",
       "  'precision': [0.8309054374694824],\n",
       "  'recall': [0.8410734534263611],\n",
       "  'f1': [0.8359584808349609]},\n",
       " {'question': 'how much is a cost to run disneyland',\n",
       "  'answer': 'The cost to run Disneyland per day is approximately $5.7 million. This estimate is based on the cash provided from operations of its domestic parks, which is US$1,169 billion, and assuming all 6 domestic parks generate the same profits. The calculation takes into account operating income and the number of days the parks are open per year.',\n",
       "  'true_answer': 'Around $355,000 per day.',\n",
       "  'precision': [0.8168572187423706],\n",
       "  'recall': [0.8927435874938965],\n",
       "  'f1': [0.8531161546707153]},\n",
       " {'question': 'how long should a central air conditioner last',\n",
       "  'answer': \"A central air conditioner's lifespan can range from 15 to 25 years, depending on regular maintenance. Furnaces tend to outlast air conditioners, with furnaces lasting up to 25 years and cooling units lasting up to 20 years. Regular tune-ups are crucial to extending the unit's lifespan.\",\n",
       "  'true_answer': '10 to 20 years',\n",
       "  'precision': [0.8007218241691589],\n",
       "  'recall': [0.8582758903503418],\n",
       "  'f1': [0.828500509262085]},\n",
       " {'question': 'botulinum definition',\n",
       "  'answer': 'Botulinum toxin is a very powerful neurotoxin produced by the botulinum bacterium (Clostridium botulinum) that causes botulism. It acts primarily on the parasympathetic nervous system, leading to symptoms such as muscle weakness and paralysis. Botulism is a sometimes fatal disease of the nervous system acquired from spoiled foods containing botulinum toxin.',\n",
       "  'true_answer': 'The definition of botulinum is a very powerful neurotoxin that causes botulism and is produced by the botulinum bacterium.',\n",
       "  'precision': [0.86895751953125],\n",
       "  'recall': [0.9272570610046387],\n",
       "  'f1': [0.8971611261367798]},\n",
       " {'question': 'can thinning vocal cords cause hoarseness',\n",
       "  'answer': \"Thinning vocal cords can cause hoarseness due to reduced vibration and altered sound production. This occurs when the vocal cords' surface becomes damaged or worn out, leading to a decrease in their ability to vibrate freely. As a result, the voice may become raspy, breathy, or uneven.\",\n",
       "  'true_answer': 'Yes, thinning vocal cords cause hoarseness.',\n",
       "  'precision': [0.8555236458778381],\n",
       "  'recall': [0.9186979532241821],\n",
       "  'f1': [0.8859860301017761]},\n",
       " {'question': 'can lorazepam cause tinnitus',\n",
       "  'answer': \"I don't know if lorazepam can cause tinnitus, but it is mentioned as a potential cause in some medical research and is sometimes used to treat tinnitus in low doses. The context suggests that stopping lorazepam may be recommended for individuals experiencing tinnitus symptoms. However, the effectiveness of this approach is not well-documented.\",\n",
       "  'true_answer': 'Yes, lorazepam can cause tinnitus.',\n",
       "  'precision': [0.8688652515411377],\n",
       "  'recall': [0.9378818273544312],\n",
       "  'f1': [0.9020553827285767]},\n",
       " {'question': 'how many minutes a pound should you roast a chicken',\n",
       "  'answer': \"According to the retrieved context, it's recommended to roast a chicken for 20 minutes per pound of meat. However, some people prefer to roast on high heat (450°F) for the first and last 15 minutes, adding an extra half hour to the total cooking time. This method doesn't add the extra 15 minutes to the initial 20 minutes per pound calculation.\",\n",
       "  'true_answer': '20 minutes per pound to roast a chicken.',\n",
       "  'precision': [0.8329871892929077],\n",
       "  'recall': [0.9301760196685791],\n",
       "  'f1': [0.8789029717445374]},\n",
       " {'question': 'can h. pylori cause vomiting',\n",
       "  'answer': \"H. pylori can cause nausea and vomiting as part of its symptoms, along with stomach pain, bloating, and loss of appetite. The exact mechanism by which it causes these symptoms is not fully understood. However, it's likely related to the bacteria's ability to infect the stomach lining and cause inflammation.\",\n",
       "  'true_answer': 'Yes, H. pylori can cause vomiting.',\n",
       "  'precision': [0.8428919911384583],\n",
       "  'recall': [0.9247156977653503],\n",
       "  'f1': [0.8819100260734558]},\n",
       " {'question': 'animal rescue league hours',\n",
       "  'answer': \"The Animal Rescue League's hours of operation are as follows: Summer Hours: Monday 11am – 5pm, Tuesday 11am – 8pm, Thursday 11am – 8pm, Friday 11am – 5pm, Saturday 11am – 4pm. I do not have information on their winter hours or hours for specific days of the week other than Wednesday (Closed).\",\n",
       "  'true_answer': 'Summer Hours: (April through October) Monday: 11am – 5pm. Tuesday: 11am – 8pm. Wednesday: Closed. Thursday: 11am – 8pm. Friday: 11am – 5pm. Saturday: 11am – 4pm.',\n",
       "  'precision': [0.886244535446167],\n",
       "  'recall': [0.9300757050514221],\n",
       "  'f1': [0.9076313376426697]},\n",
       " {'question': 'do physicians pay for insurance from their salaries?',\n",
       "  'answer': \"I don't know if physicians pay for insurance from their salaries. According to the provided context, doctors' net take-home pay amounts to only about 10 percent of overall health care spending, but it doesn't specify how they cover their own insurance costs. The context does mention that active-duty physicians and their dependents receive free or discounted health care coverage.\",\n",
       "  'true_answer': 'No, active duty physicians and their dependents will receive free or discounted health care coverage and dental coverage.',\n",
       "  'precision': [0.8537323474884033],\n",
       "  'recall': [0.9221323132514954],\n",
       "  'f1': [0.8866151571273804]},\n",
       " {'question': 'symptoms of cannabinoid hyperemesis syndrome',\n",
       "  'answer': 'The symptoms of cannabinoid hyperemesis syndrome include cyclic vomiting, nausea, and compulsive bathing. Abdominal pain is also a common symptom. These symptoms are often triggered by years of cannabis abuse.',\n",
       "  'true_answer': 'Vomiting is one of the systems in cannabinoid hyperemesis syndrome.',\n",
       "  'precision': [0.8633748292922974],\n",
       "  'recall': [0.8956869840621948],\n",
       "  'f1': [0.8792341351509094]},\n",
       " {'question': 'coffee bean stock price',\n",
       "  'answer': 'I don\\'t have real-time information on current stock prices, but according to the provided context, the price of coffee futures was around $1.65 per pound in 2017 and is up 15% from 2015. I couldn\\'t find any specific information on a \"coffee bean stock price\".',\n",
       "  'true_answer': '$1.65 per pound.',\n",
       "  'precision': [0.8178350329399109],\n",
       "  'recall': [0.9301319122314453],\n",
       "  'f1': [0.8703762292861938]},\n",
       " {'question': 'complex variable functions',\n",
       "  'answer': 'In complex analysis, a function f(z) of a complex variable z is studied, where z = x + yi and f(z) takes values in C. These functions are also known as holomorphic functions or analytic functions. They can be represented by a Taylor series and are equal to their own derivatives at every point in the domain.',\n",
       "  'true_answer': 'A complex variable is equal to the sum of its Taylor series, complex analysis is particularly concerned with analytic functions of a complex variable.',\n",
       "  'precision': [0.8470642566680908],\n",
       "  'recall': [0.9000136256217957],\n",
       "  'f1': [0.8727365732192993]},\n",
       " {'question': 'ellianna name meaning',\n",
       "  'answer': 'The meaning of the name Ellianna/Eliana is \"My lord has answered\" or \"God has answered me\", derived from the Hebrew words \"El\" (meaning \\'God\\') and \"ana\" (meaning \\'answered\\'). It is a variant of the Hebrew name Eliana. The name is mostly used as a girls\\' name.',\n",
       "  'true_answer': 'My lord has answered.',\n",
       "  'precision': [0.790626585483551],\n",
       "  'recall': [0.9058142304420471],\n",
       "  'f1': [0.8443098068237305]}]"
      ]
     },
     "execution_count": 47,
     "metadata": {},
     "output_type": "execute_result"
    }
   ],
   "source": [
    "import torch \n",
    "\n",
    "results = []\n",
    "for indx in range(50):\n",
    "    d = dict()\n",
    "    \n",
    "    # Retrieve answer\n",
    "    answer = rag_chain_reranker.invoke(questions[indx])\n",
    "    d['question'] = questions[indx]\n",
    "    d['answer'] = answer\n",
    "    d['true_answer'] = answers[indx][0]\n",
    "    \n",
    "    # Compute scores\n",
    "    scores = bertscore.compute(predictions=[answer], references=answers[indx], lang=\"en\")\n",
    "    p, r, f1 = scores.get('precision'), scores.get('recall'), scores.get('f1')\n",
    "    d['precision'] = p\n",
    "    d['recall'] = r\n",
    "    d['f1'] = f1\n",
    "    results.append(d)\n",
    "    \n",
    "    # Clear GPU memory\n",
    "    if torch.cuda.is_available():\n",
    "        torch.cuda.empty_cache()\n",
    "\n",
    "results"
   ]
  },
  {
   "cell_type": "code",
   "execution_count": 52,
   "id": "585c877e-5b02-494b-be76-632f3ff39039",
   "metadata": {},
   "outputs": [
    {
     "data": {
      "text/html": [
       "<div>\n",
       "<style scoped>\n",
       "    .dataframe tbody tr th:only-of-type {\n",
       "        vertical-align: middle;\n",
       "    }\n",
       "\n",
       "    .dataframe tbody tr th {\n",
       "        vertical-align: top;\n",
       "    }\n",
       "\n",
       "    .dataframe thead th {\n",
       "        text-align: right;\n",
       "    }\n",
       "</style>\n",
       "<table border=\"1\" class=\"dataframe\">\n",
       "  <thead>\n",
       "    <tr style=\"text-align: right;\">\n",
       "      <th></th>\n",
       "      <th>question</th>\n",
       "      <th>answer</th>\n",
       "      <th>true_answer</th>\n",
       "      <th>precision</th>\n",
       "      <th>recall</th>\n",
       "      <th>f1</th>\n",
       "    </tr>\n",
       "  </thead>\n",
       "  <tbody>\n",
       "    <tr>\n",
       "      <th>0</th>\n",
       "      <td>. what is a corporation?</td>\n",
       "      <td>A corporation is an association of individuals...</td>\n",
       "      <td>A corporation is a company or group of people ...</td>\n",
       "      <td>[0.8773943185806274]</td>\n",
       "      <td>[0.9258008003234863]</td>\n",
       "      <td>[0.9009478092193604]</td>\n",
       "    </tr>\n",
       "    <tr>\n",
       "      <th>1</th>\n",
       "      <td>why did rachel carson write an obligation to e...</td>\n",
       "      <td>I don't know the specific reason why Rachel Ca...</td>\n",
       "      <td>Rachel Carson writes The Obligation to Endure ...</td>\n",
       "      <td>[0.8683347702026367]</td>\n",
       "      <td>[0.8855201005935669]</td>\n",
       "      <td>[0.8768432140350342]</td>\n",
       "    </tr>\n",
       "  </tbody>\n",
       "</table>\n",
       "</div>"
      ],
      "text/plain": [
       "                                            question  \\\n",
       "0                           . what is a corporation?   \n",
       "1  why did rachel carson write an obligation to e...   \n",
       "\n",
       "                                              answer  \\\n",
       "0  A corporation is an association of individuals...   \n",
       "1  I don't know the specific reason why Rachel Ca...   \n",
       "\n",
       "                                         true_answer             precision  \\\n",
       "0  A corporation is a company or group of people ...  [0.8773943185806274]   \n",
       "1  Rachel Carson writes The Obligation to Endure ...  [0.8683347702026367]   \n",
       "\n",
       "                 recall                    f1  \n",
       "0  [0.9258008003234863]  [0.9009478092193604]  \n",
       "1  [0.8855201005935669]  [0.8768432140350342]  "
      ]
     },
     "execution_count": 52,
     "metadata": {},
     "output_type": "execute_result"
    }
   ],
   "source": [
    "df_results = pd.DataFrame(results)\n",
    "df_results.head(2)"
   ]
  },
  {
   "cell_type": "code",
   "execution_count": 53,
   "id": "ee5d200b-b7aa-4a34-9d24-c3781dd112da",
   "metadata": {},
   "outputs": [],
   "source": [
    "df_results.precision = df_results.precision.apply(lambda x : x[0])\n",
    "df_results.recall = df_results.recall.apply(lambda x : x[0])\n",
    "df_results.f1 = df_results.f1.apply(lambda x : x[0])"
   ]
  },
  {
   "cell_type": "code",
   "execution_count": 55,
   "id": "2aabc379-b5ea-45b8-9552-00a8afd13e35",
   "metadata": {},
   "outputs": [
    {
     "data": {
      "text/html": [
       "<div>\n",
       "<style scoped>\n",
       "    .dataframe tbody tr th:only-of-type {\n",
       "        vertical-align: middle;\n",
       "    }\n",
       "\n",
       "    .dataframe tbody tr th {\n",
       "        vertical-align: top;\n",
       "    }\n",
       "\n",
       "    .dataframe thead th {\n",
       "        text-align: right;\n",
       "    }\n",
       "</style>\n",
       "<table border=\"1\" class=\"dataframe\">\n",
       "  <thead>\n",
       "    <tr style=\"text-align: right;\">\n",
       "      <th></th>\n",
       "      <th>question</th>\n",
       "      <th>answer</th>\n",
       "      <th>true_answer</th>\n",
       "      <th>precision</th>\n",
       "      <th>recall</th>\n",
       "      <th>f1</th>\n",
       "    </tr>\n",
       "  </thead>\n",
       "  <tbody>\n",
       "    <tr>\n",
       "      <th>0</th>\n",
       "      <td>. what is a corporation?</td>\n",
       "      <td>A corporation is an association of individuals...</td>\n",
       "      <td>A corporation is a company or group of people ...</td>\n",
       "      <td>0.877394</td>\n",
       "      <td>0.925801</td>\n",
       "      <td>0.900948</td>\n",
       "    </tr>\n",
       "    <tr>\n",
       "      <th>1</th>\n",
       "      <td>why did rachel carson write an obligation to e...</td>\n",
       "      <td>I don't know the specific reason why Rachel Ca...</td>\n",
       "      <td>Rachel Carson writes The Obligation to Endure ...</td>\n",
       "      <td>0.868335</td>\n",
       "      <td>0.885520</td>\n",
       "      <td>0.876843</td>\n",
       "    </tr>\n",
       "  </tbody>\n",
       "</table>\n",
       "</div>"
      ],
      "text/plain": [
       "                                            question  \\\n",
       "0                           . what is a corporation?   \n",
       "1  why did rachel carson write an obligation to e...   \n",
       "\n",
       "                                              answer  \\\n",
       "0  A corporation is an association of individuals...   \n",
       "1  I don't know the specific reason why Rachel Ca...   \n",
       "\n",
       "                                         true_answer  precision    recall  \\\n",
       "0  A corporation is a company or group of people ...   0.877394  0.925801   \n",
       "1  Rachel Carson writes The Obligation to Endure ...   0.868335  0.885520   \n",
       "\n",
       "         f1  \n",
       "0  0.900948  \n",
       "1  0.876843  "
      ]
     },
     "execution_count": 55,
     "metadata": {},
     "output_type": "execute_result"
    }
   ],
   "source": [
    "df_results.head(2)"
   ]
  },
  {
   "cell_type": "code",
   "execution_count": 56,
   "id": "4b76dd75-18e0-4874-8952-ca2d016d4698",
   "metadata": {},
   "outputs": [
    {
     "data": {
      "text/html": [
       "<div>\n",
       "<style scoped>\n",
       "    .dataframe tbody tr th:only-of-type {\n",
       "        vertical-align: middle;\n",
       "    }\n",
       "\n",
       "    .dataframe tbody tr th {\n",
       "        vertical-align: top;\n",
       "    }\n",
       "\n",
       "    .dataframe thead th {\n",
       "        text-align: right;\n",
       "    }\n",
       "</style>\n",
       "<table border=\"1\" class=\"dataframe\">\n",
       "  <thead>\n",
       "    <tr style=\"text-align: right;\">\n",
       "      <th></th>\n",
       "      <th>precision</th>\n",
       "      <th>recall</th>\n",
       "      <th>f1</th>\n",
       "    </tr>\n",
       "  </thead>\n",
       "  <tbody>\n",
       "    <tr>\n",
       "      <th>count</th>\n",
       "      <td>50.000000</td>\n",
       "      <td>50.000000</td>\n",
       "      <td>50.000000</td>\n",
       "    </tr>\n",
       "    <tr>\n",
       "      <th>mean</th>\n",
       "      <td>0.846398</td>\n",
       "      <td>0.901722</td>\n",
       "      <td>0.872847</td>\n",
       "    </tr>\n",
       "    <tr>\n",
       "      <th>std</th>\n",
       "      <td>0.034683</td>\n",
       "      <td>0.039046</td>\n",
       "      <td>0.032486</td>\n",
       "    </tr>\n",
       "    <tr>\n",
       "      <th>min</th>\n",
       "      <td>0.757440</td>\n",
       "      <td>0.807259</td>\n",
       "      <td>0.781556</td>\n",
       "    </tr>\n",
       "    <tr>\n",
       "      <th>25%</th>\n",
       "      <td>0.823032</td>\n",
       "      <td>0.884536</td>\n",
       "      <td>0.853202</td>\n",
       "    </tr>\n",
       "    <tr>\n",
       "      <th>50%</th>\n",
       "      <td>0.843472</td>\n",
       "      <td>0.909901</td>\n",
       "      <td>0.877255</td>\n",
       "    </tr>\n",
       "    <tr>\n",
       "      <th>75%</th>\n",
       "      <td>0.868366</td>\n",
       "      <td>0.929371</td>\n",
       "      <td>0.891087</td>\n",
       "    </tr>\n",
       "    <tr>\n",
       "      <th>max</th>\n",
       "      <td>0.939795</td>\n",
       "      <td>0.965793</td>\n",
       "      <td>0.933435</td>\n",
       "    </tr>\n",
       "  </tbody>\n",
       "</table>\n",
       "</div>"
      ],
      "text/plain": [
       "       precision     recall         f1\n",
       "count  50.000000  50.000000  50.000000\n",
       "mean    0.846398   0.901722   0.872847\n",
       "std     0.034683   0.039046   0.032486\n",
       "min     0.757440   0.807259   0.781556\n",
       "25%     0.823032   0.884536   0.853202\n",
       "50%     0.843472   0.909901   0.877255\n",
       "75%     0.868366   0.929371   0.891087\n",
       "max     0.939795   0.965793   0.933435"
      ]
     },
     "execution_count": 56,
     "metadata": {},
     "output_type": "execute_result"
    }
   ],
   "source": [
    "df_results.describe()"
   ]
  },
  {
   "cell_type": "code",
   "execution_count": 57,
   "id": "fd9b4c4c-f19a-4107-a37f-850de04e7dc2",
   "metadata": {},
   "outputs": [],
   "source": [
    "df_results.to_csv('rag_results.csv', index=False)"
   ]
  },
  {
   "cell_type": "code",
   "execution_count": 2,
   "id": "5f7c0591-0156-4334-921b-c0409e80aca6",
   "metadata": {},
   "outputs": [
    {
     "data": {
      "image/png": "[encoded data removed]",
      "text/plain": [
       "<Figure size 800x600 with 1 Axes>"
      ]
     },
     "metadata": {},
     "output_type": "display_data"
    }
   ],
   "source": [
    "import matplotlib.pyplot as plt\n",
    "\n",
    "# Calculate average scores\n",
    "avg_scores = df_results[['precision', 'recall', 'f1']].mean()\n",
    "\n",
    "# Create a bar plot\n",
    "avg_scores.plot(kind='bar', figsize=(8, 6), color=['#4CAF50', '#2196F3', '#FFC107'], edgecolor='black')\n",
    "\n",
    "plt.title(\"Average Performance Metrics of RAG On QA_v2 Dataset\", fontsize=14, weight='bold')\n",
    "plt.ylabel(\"Average Score\", fontsize=12)\n",
    "plt.xticks(rotation=0, fontsize=10)\n",
    "plt.ylim(0, 1)  # Metrics are between 0 and 1\n",
    "plt.grid(axis='y', linestyle='--', alpha=0.7)\n",
    "plt.tight_layout()\n",
    "\n",
    "# Save and show\n",
    "plt.savefig('average_metrics.png', dpi=300, bbox_inches='tight')\n",
    "plt.show()"
   ]
  },
  {
   "cell_type": "code",
   "execution_count": 4,
   "id": "413f2d2e-dfad-464f-957e-b5933a065ba9",
   "metadata": {},
   "outputs": [
    {
     "data": {
      "application/vnd.plotly.v1+json": {
       "config": {
        "plotlyServerURL": "https://plot.ly"
       },
       "data": [
        {
         "alignmentgroup": "True",
         "hovertemplate": "Questions=%{x}<br>F1 Score=%{marker.color}<extra></extra>",
         "legendgroup": "",
         "marker": {
          "color": [
           0.9334346652030944,
           0.9325738549232484,
           0.9248007535934448,
           0.9209027290344238,
           0.9186729192733764,
           0.9076313376426696,
           0.9065228700637816,
           0.905227780342102,
           0.9020553827285768,
           0.9009478092193604
          ],
          "coloraxis": "coloraxis",
          "pattern": {
           "shape": ""
          }
         },
         "name": "",
         "offsetgroup": "",
         "orientation": "v",
         "showlegend": false,
         "text": [
          0.9334346652030944,
          0.9325738549232484,
          0.9248007535934448,
          0.9209027290344238,
          0.9186729192733764,
          0.9076313376426696,
          0.9065228700637816,
          0.905227780342102,
          0.9020553827285768,
          0.9009478092193604
         ],
         "textposition": "auto",
         "type": "bar",
         "x": [
          "symptoms of a dying mouse",
          "symptoms of an uti sensation",
          "dynamics crm outlook synchronization process",
          "highest paying subspecialty in orthopedics",
          "how much are postage stamps right now",
          "animal rescue league hours",
          "how far is faribault from winona?",
          "benefits of lymphatic drainage facial",
          "can lorazepam cause tinnitus",
          ". what is a corporation?"
         ],
         "xaxis": "x",
         "y": [
          0.9334346652030944,
          0.9325738549232484,
          0.9248007535934448,
          0.9209027290344238,
          0.9186729192733764,
          0.9076313376426696,
          0.9065228700637816,
          0.905227780342102,
          0.9020553827285768,
          0.9009478092193604
         ],
         "yaxis": "y"
        }
       ],
       "layout": {
        "barmode": "relative",
        "coloraxis": {
         "colorbar": {
          "title": {
           "text": "F1 Score"
          }
         },
         "colorscale": [
          [
           0,
           "rgb(247,251,255)"
          ],
          [
           0.125,
           "rgb(222,235,247)"
          ],
          [
           0.25,
           "rgb(198,219,239)"
          ],
          [
           0.375,
           "rgb(158,202,225)"
          ],
          [
           0.5,
           "rgb(107,174,214)"
          ],
          [
           0.625,
           "rgb(66,146,198)"
          ],
          [
           0.75,
           "rgb(33,113,181)"
          ],
          [
           0.875,
           "rgb(8,81,156)"
          ],
          [
           1,
           "rgb(8,48,107)"
          ]
         ],
         "showscale": false
        },
        "font": {
         "size": 12
        },
        "legend": {
         "tracegroupgap": 0
        },
        "plot_bgcolor": "white",
        "template": {
         "data": {
          "bar": [
           {
            "error_x": {
             "color": "#2a3f5f"
            },
            "error_y": {
             "color": "#2a3f5f"
            },
            "marker": {
             "line": {
              "color": "#E5ECF6",
              "width": 0.5
             },
             "pattern": {
              "fillmode": "overlay",
              "size": 10,
              "solidity": 0.2
             }
            },
            "type": "bar"
           }
          ],
          "barpolar": [
           {
            "marker": {
             "line": {
              "color": "#E5ECF6",
              "width": 0.5
             },
             "pattern": {
              "fillmode": "overlay",
              "size": 10,
              "solidity": 0.2
             }
            },
            "type": "barpolar"
           }
          ],
          "carpet": [
           {
            "aaxis": {
             "endlinecolor": "#2a3f5f",
             "gridcolor": "white",
             "linecolor": "white",
             "minorgridcolor": "white",
             "startlinecolor": "#2a3f5f"
            },
            "baxis": {
             "endlinecolor": "#2a3f5f",
             "gridcolor": "white",
             "linecolor": "white",
             "minorgridcolor": "white",
             "startlinecolor": "#2a3f5f"
            },
            "type": "carpet"
           }
          ],
          "choropleth": [
           {
            "colorbar": {
             "outlinewidth": 0,
             "ticks": ""
            },
            "type": "choropleth"
           }
          ],
          "contour": [
           {
            "colorbar": {
             "outlinewidth": 0,
             "ticks": ""
            },
            "colorscale": [
             [
              0,
              "#0d0887"
             ],
             [
              0.1111111111111111,
              "#46039f"
             ],
             [
              0.2222222222222222,
              "#7201a8"
             ],
             [
              0.3333333333333333,
              "#9c179e"
             ],
             [
              0.4444444444444444,
              "#bd3786"
             ],
             [
              0.5555555555555556,
              "#d8576b"
             ],
             [
              0.6666666666666666,
              "#ed7953"
             ],
             [
              0.7777777777777778,
              "#fb9f3a"
             ],
             [
              0.8888888888888888,
              "#fdca26"
             ],
             [
              1,
              "#f0f921"
             ]
            ],
            "type": "contour"
           }
          ],
          "contourcarpet": [
           {
            "colorbar": {
             "outlinewidth": 0,
             "ticks": ""
            },
            "type": "contourcarpet"
           }
          ],
          "heatmap": [
           {
            "colorbar": {
             "outlinewidth": 0,
             "ticks": ""
            },
            "colorscale": [
             [
              0,
              "#0d0887"
             ],
             [
              0.1111111111111111,
              "#46039f"
             ],
             [
              0.2222222222222222,
              "#7201a8"
             ],
             [
              0.3333333333333333,
              "#9c179e"
             ],
             [
              0.4444444444444444,
              "#bd3786"
             ],
             [
              0.5555555555555556,
              "#d8576b"
             ],
             [
              0.6666666666666666,
              "#ed7953"
             ],
             [
              0.7777777777777778,
              "#fb9f3a"
             ],
             [
              0.8888888888888888,
              "#fdca26"
             ],
             [
              1,
              "#f0f921"
             ]
            ],
            "type": "heatmap"
           }
          ],
          "heatmapgl": [
           {
            "colorbar": {
             "outlinewidth": 0,
             "ticks": ""
            },
            "colorscale": [
             [
              0,
              "#0d0887"
             ],
             [
              0.1111111111111111,
              "#46039f"
             ],
             [
              0.2222222222222222,
              "#7201a8"
             ],
             [
              0.3333333333333333,
              "#9c179e"
             ],
             [
              0.4444444444444444,
              "#bd3786"
             ],
             [
              0.5555555555555556,
              "#d8576b"
             ],
             [
              0.6666666666666666,
              "#ed7953"
             ],
             [
              0.7777777777777778,
              "#fb9f3a"
             ],
             [
              0.8888888888888888,
              "#fdca26"
             ],
             [
              1,
              "#f0f921"
             ]
            ],
            "type": "heatmapgl"
           }
          ],
          "histogram": [
           {
            "marker": {
             "pattern": {
              "fillmode": "overlay",
              "size": 10,
              "solidity": 0.2
             }
            },
            "type": "histogram"
           }
          ],
          "histogram2d": [
           {
            "colorbar": {
             "outlinewidth": 0,
             "ticks": ""
            },
            "colorscale": [
             [
              0,
              "#0d0887"
             ],
             [
              0.1111111111111111,
              "#46039f"
             ],
             [
              0.2222222222222222,
              "#7201a8"
             ],
             [
              0.3333333333333333,
              "#9c179e"
             ],
             [
              0.4444444444444444,
              "#bd3786"
             ],
             [
              0.5555555555555556,
              "#d8576b"
             ],
             [
              0.6666666666666666,
              "#ed7953"
             ],
             [
              0.7777777777777778,
              "#fb9f3a"
             ],
             [
              0.8888888888888888,
              "#fdca26"
             ],
             [
              1,
              "#f0f921"
             ]
            ],
            "type": "histogram2d"
           }
          ],
          "histogram2dcontour": [
           {
            "colorbar": {
             "outlinewidth": 0,
             "ticks": ""
            },
            "colorscale": [
             [
              0,
              "#0d0887"
             ],
             [
              0.1111111111111111,
              "#46039f"
             ],
             [
              0.2222222222222222,
              "#7201a8"
             ],
             [
              0.3333333333333333,
              "#9c179e"
             ],
             [
              0.4444444444444444,
              "#bd3786"
             ],
             [
              0.5555555555555556,
              "#d8576b"
             ],
             [
              0.6666666666666666,
              "#ed7953"
             ],
             [
              0.7777777777777778,
              "#fb9f3a"
             ],
             [
              0.8888888888888888,
              "#fdca26"
             ],
             [
              1,
              "#f0f921"
             ]
            ],
            "type": "histogram2dcontour"
           }
          ],
          "mesh3d": [
           {
            "colorbar": {
             "outlinewidth": 0,
             "ticks": ""
            },
            "type": "mesh3d"
           }
          ],
          "parcoords": [
           {
            "line": {
             "colorbar": {
              "outlinewidth": 0,
              "ticks": ""
             }
            },
            "type": "parcoords"
           }
          ],
          "pie": [
           {
            "automargin": true,
            "type": "pie"
           }
          ],
          "scatter": [
           {
            "fillpattern": {
             "fillmode": "overlay",
             "size": 10,
             "solidity": 0.2
            },
            "type": "scatter"
           }
          ],
          "scatter3d": [
           {
            "line": {
             "colorbar": {
              "outlinewidth": 0,
              "ticks": ""
             }
            },
            "marker": {
             "colorbar": {
              "outlinewidth": 0,
              "ticks": ""
             }
            },
            "type": "scatter3d"
           }
          ],
          "scattercarpet": [
           {
            "marker": {
             "colorbar": {
              "outlinewidth": 0,
              "ticks": ""
             }
            },
            "type": "scattercarpet"
           }
          ],
          "scattergeo": [
           {
            "marker": {
             "colorbar": {
              "outlinewidth": 0,
              "ticks": ""
             }
            },
            "type": "scattergeo"
           }
          ],
          "scattergl": [
           {
            "marker": {
             "colorbar": {
              "outlinewidth": 0,
              "ticks": ""
             }
            },
            "type": "scattergl"
           }
          ],
          "scattermapbox": [
           {
            "marker": {
             "colorbar": {
              "outlinewidth": 0,
              "ticks": ""
             }
            },
            "type": "scattermapbox"
           }
          ],
          "scatterpolar": [
           {
            "marker": {
             "colorbar": {
              "outlinewidth": 0,
              "ticks": ""
             }
            },
            "type": "scatterpolar"
           }
          ],
          "scatterpolargl": [
           {
            "marker": {
             "colorbar": {
              "outlinewidth": 0,
              "ticks": ""
             }
            },
            "type": "scatterpolargl"
           }
          ],
          "scatterternary": [
           {
            "marker": {
             "colorbar": {
              "outlinewidth": 0,
              "ticks": ""
             }
            },
            "type": "scatterternary"
           }
          ],
          "surface": [
           {
            "colorbar": {
             "outlinewidth": 0,
             "ticks": ""
            },
            "colorscale": [
             [
              0,
              "#0d0887"
             ],
             [
              0.1111111111111111,
              "#46039f"
             ],
             [
              0.2222222222222222,
              "#7201a8"
             ],
             [
              0.3333333333333333,
              "#9c179e"
             ],
             [
              0.4444444444444444,
              "#bd3786"
             ],
             [
              0.5555555555555556,
              "#d8576b"
             ],
             [
              0.6666666666666666,
              "#ed7953"
             ],
             [
              0.7777777777777778,
              "#fb9f3a"
             ],
             [
              0.8888888888888888,
              "#fdca26"
             ],
             [
              1,
              "#f0f921"
             ]
            ],
            "type": "surface"
           }
          ],
          "table": [
           {
            "cells": {
             "fill": {
              "color": "#EBF0F8"
             },
             "line": {
              "color": "white"
             }
            },
            "header": {
             "fill": {
              "color": "#C8D4E3"
             },
             "line": {
              "color": "white"
             }
            },
            "type": "table"
           }
          ]
         },
         "layout": {
          "annotationdefaults": {
           "arrowcolor": "#2a3f5f",
           "arrowhead": 0,
           "arrowwidth": 1
          },
          "autotypenumbers": "strict",
          "coloraxis": {
           "colorbar": {
            "outlinewidth": 0,
            "ticks": ""
           }
          },
          "colorscale": {
           "diverging": [
            [
             0,
             "#8e0152"
            ],
            [
             0.1,
             "#c51b7d"
            ],
            [
             0.2,
             "#de77ae"
            ],
            [
             0.3,
             "#f1b6da"
            ],
            [
             0.4,
             "#fde0ef"
            ],
            [
             0.5,
             "#f7f7f7"
            ],
            [
             0.6,
             "#e6f5d0"
            ],
            [
             0.7,
             "#b8e186"
            ],
            [
             0.8,
             "#7fbc41"
            ],
            [
             0.9,
             "#4d9221"
            ],
            [
             1,
             "#276419"
            ]
           ],
           "sequential": [
            [
             0,
             "#0d0887"
            ],
            [
             0.1111111111111111,
             "#46039f"
            ],
            [
             0.2222222222222222,
             "#7201a8"
            ],
            [
             0.3333333333333333,
             "#9c179e"
            ],
            [
             0.4444444444444444,
             "#bd3786"
            ],
            [
             0.5555555555555556,
             "#d8576b"
            ],
            [
             0.6666666666666666,
             "#ed7953"
            ],
            [
             0.7777777777777778,
             "#fb9f3a"
            ],
            [
             0.8888888888888888,
             "#fdca26"
            ],
            [
             1,
             "#f0f921"
            ]
           ],
           "sequentialminus": [
            [
             0,
             "#0d0887"
            ],
            [
             0.1111111111111111,
             "#46039f"
            ],
            [
             0.2222222222222222,
             "#7201a8"
            ],
            [
             0.3333333333333333,
             "#9c179e"
            ],
            [
             0.4444444444444444,
             "#bd3786"
            ],
            [
             0.5555555555555556,
             "#d8576b"
            ],
            [
             0.6666666666666666,
             "#ed7953"
            ],
            [
             0.7777777777777778,
             "#fb9f3a"
            ],
            [
             0.8888888888888888,
             "#fdca26"
            ],
            [
             1,
             "#f0f921"
            ]
           ]
          },
          "colorway": [
           "#636efa",
           "#EF553B",
           "#00cc96",
           "#ab63fa",
           "#FFA15A",
           "#19d3f3",
           "#FF6692",
           "#B6E880",
           "#FF97FF",
           "#FECB52"
          ],
          "font": {
           "color": "#2a3f5f"
          },
          "geo": {
           "bgcolor": "white",
           "lakecolor": "white",
           "landcolor": "#E5ECF6",
           "showlakes": true,
           "showland": true,
           "subunitcolor": "white"
          },
          "hoverlabel": {
           "align": "left"
          },
          "hovermode": "closest",
          "mapbox": {
           "style": "light"
          },
          "paper_bgcolor": "white",
          "plot_bgcolor": "#E5ECF6",
          "polar": {
           "angularaxis": {
            "gridcolor": "white",
            "linecolor": "white",
            "ticks": ""
           },
           "bgcolor": "#E5ECF6",
           "radialaxis": {
            "gridcolor": "white",
            "linecolor": "white",
            "ticks": ""
           }
          },
          "scene": {
           "xaxis": {
            "backgroundcolor": "#E5ECF6",
            "gridcolor": "white",
            "gridwidth": 2,
            "linecolor": "white",
            "showbackground": true,
            "ticks": "",
            "zerolinecolor": "white"
           },
           "yaxis": {
            "backgroundcolor": "#E5ECF6",
            "gridcolor": "white",
            "gridwidth": 2,
            "linecolor": "white",
            "showbackground": true,
            "ticks": "",
            "zerolinecolor": "white"
           },
           "zaxis": {
            "backgroundcolor": "#E5ECF6",
            "gridcolor": "white",
            "gridwidth": 2,
            "linecolor": "white",
            "showbackground": true,
            "ticks": "",
            "zerolinecolor": "white"
           }
          },
          "shapedefaults": {
           "line": {
            "color": "#2a3f5f"
           }
          },
          "ternary": {
           "aaxis": {
            "gridcolor": "white",
            "linecolor": "white",
            "ticks": ""
           },
           "baxis": {
            "gridcolor": "white",
            "linecolor": "white",
            "ticks": ""
           },
           "bgcolor": "#E5ECF6",
           "caxis": {
            "gridcolor": "white",
            "linecolor": "white",
            "ticks": ""
           }
          },
          "title": {
           "x": 0.05
          },
          "xaxis": {
           "automargin": true,
           "gridcolor": "white",
           "linecolor": "white",
           "ticks": "",
           "title": {
            "standoff": 15
           },
           "zerolinecolor": "white",
           "zerolinewidth": 2
          },
          "yaxis": {
           "automargin": true,
           "gridcolor": "white",
           "linecolor": "white",
           "ticks": "",
           "title": {
            "standoff": 15
           },
           "zerolinecolor": "white",
           "zerolinewidth": 2
          }
         }
        },
        "title": {
         "text": "Top 10 QA Pairs by F1 Score",
         "x": 0.5
        },
        "xaxis": {
         "anchor": "y",
         "domain": [
          0,
          1
         ],
         "title": {
          "text": "Questions"
         }
        },
        "yaxis": {
         "anchor": "x",
         "domain": [
          0,
          1
         ],
         "title": {
          "text": "F1 Score"
         }
        }
       }
      },
      "image/png": "[encoded data removed]",
      "text/html": [
       "<div>                            <div id=\"80299962-2b5f-4279-a4ef-04df30c10e6f\" class=\"plotly-graph-div\" style=\"height:525px; width:100%;\"></div>            <script type=\"text/javascript\">                require([\"plotly\"], function(Plotly) {                    window.PLOTLYENV=window.PLOTLYENV || {};                                    if (document.getElementById(\"80299962-2b5f-4279-a4ef-04df30c10e6f\")) {                    Plotly.newPlot(                        \"80299962-2b5f-4279-a4ef-04df30c10e6f\",                        [{\"alignmentgroup\":\"True\",\"hovertemplate\":\"Questions=%{x}\\u003cbr\\u003eF1 Score=%{marker.color}\\u003cextra\\u003e\\u003c\\u002fextra\\u003e\",\"legendgroup\":\"\",\"marker\":{\"color\":[0.9334346652030944,0.9325738549232484,0.9248007535934448,0.9209027290344238,0.9186729192733764,0.9076313376426696,0.9065228700637816,0.905227780342102,0.9020553827285768,0.9009478092193604],\"coloraxis\":\"coloraxis\",\"pattern\":{\"shape\":\"\"}},\"name\":\"\",\"offsetgroup\":\"\",\"orientation\":\"v\",\"showlegend\":false,\"text\":[0.9334346652030944,0.9325738549232484,0.9248007535934448,0.9209027290344238,0.9186729192733764,0.9076313376426696,0.9065228700637816,0.905227780342102,0.9020553827285768,0.9009478092193604],\"textposition\":\"auto\",\"x\":[\"symptoms of a dying mouse\",\"symptoms of an uti sensation\",\"dynamics crm outlook synchronization process\",\"highest paying subspecialty in orthopedics\",\"how much are postage stamps right now\",\"animal rescue league hours\",\"how far is faribault from winona?\",\"benefits of lymphatic drainage facial\",\"can lorazepam cause tinnitus\",\". what is a corporation?\"],\"xaxis\":\"x\",\"y\":[0.9334346652030944,0.9325738549232484,0.9248007535934448,0.9209027290344238,0.9186729192733764,0.9076313376426696,0.9065228700637816,0.905227780342102,0.9020553827285768,0.9009478092193604],\"yaxis\":\"y\",\"type\":\"bar\"}],                        {\"template\":{\"data\":{\"histogram2dcontour\":[{\"type\":\"histogram2dcontour\",\"colorbar\":{\"outlinewidth\":0,\"ticks\":\"\"},\"colorscale\":[[0.0,\"#0d0887\"],[0.1111111111111111,\"#46039f\"],[0.2222222222222222,\"#7201a8\"],[0.3333333333333333,\"#9c179e\"],[0.4444444444444444,\"#bd3786\"],[0.5555555555555556,\"#d8576b\"],[0.6666666666666666,\"#ed7953\"],[0.7777777777777778,\"#fb9f3a\"],[0.8888888888888888,\"#fdca26\"],[1.0,\"#f0f921\"]]}],\"choropleth\":[{\"type\":\"choropleth\",\"colorbar\":{\"outlinewidth\":0,\"ticks\":\"\"}}],\"histogram2d\":[{\"type\":\"histogram2d\",\"colorbar\":{\"outlinewidth\":0,\"ticks\":\"\"},\"colorscale\":[[0.0,\"#0d0887\"],[0.1111111111111111,\"#46039f\"],[0.2222222222222222,\"#7201a8\"],[0.3333333333333333,\"#9c179e\"],[0.4444444444444444,\"#bd3786\"],[0.5555555555555556,\"#d8576b\"],[0.6666666666666666,\"#ed7953\"],[0.7777777777777778,\"#fb9f3a\"],[0.8888888888888888,\"#fdca26\"],[1.0,\"#f0f921\"]]}],\"heatmap\":[{\"type\":\"heatmap\",\"colorbar\":{\"outlinewidth\":0,\"ticks\":\"\"},\"colorscale\":[[0.0,\"#0d0887\"],[0.1111111111111111,\"#46039f\"],[0.2222222222222222,\"#7201a8\"],[0.3333333333333333,\"#9c179e\"],[0.4444444444444444,\"#bd3786\"],[0.5555555555555556,\"#d8576b\"],[0.6666666666666666,\"#ed7953\"],[0.7777777777777778,\"#fb9f3a\"],[0.8888888888888888,\"#fdca26\"],[1.0,\"#f0f921\"]]}],\"heatmapgl\":[{\"type\":\"heatmapgl\",\"colorbar\":{\"outlinewidth\":0,\"ticks\":\"\"},\"colorscale\":[[0.0,\"#0d0887\"],[0.1111111111111111,\"#46039f\"],[0.2222222222222222,\"#7201a8\"],[0.3333333333333333,\"#9c179e\"],[0.4444444444444444,\"#bd3786\"],[0.5555555555555556,\"#d8576b\"],[0.6666666666666666,\"#ed7953\"],[0.7777777777777778,\"#fb9f3a\"],[0.8888888888888888,\"#fdca26\"],[1.0,\"#f0f921\"]]}],\"contourcarpet\":[{\"type\":\"contourcarpet\",\"colorbar\":{\"outlinewidth\":0,\"ticks\":\"\"}}],\"contour\":[{\"type\":\"contour\",\"colorbar\":{\"outlinewidth\":0,\"ticks\":\"\"},\"colorscale\":[[0.0,\"#0d0887\"],[0.1111111111111111,\"#46039f\"],[0.2222222222222222,\"#7201a8\"],[0.3333333333333333,\"#9c179e\"],[0.4444444444444444,\"#bd3786\"],[0.5555555555555556,\"#d8576b\"],[0.6666666666666666,\"#ed7953\"],[0.7777777777777778,\"#fb9f3a\"],[0.8888888888888888,\"#fdca26\"],[1.0,\"#f0f921\"]]}],\"surface\":[{\"type\":\"surface\",\"colorbar\":{\"outlinewidth\":0,\"ticks\":\"\"},\"colorscale\":[[0.0,\"#0d0887\"],[0.1111111111111111,\"#46039f\"],[0.2222222222222222,\"#7201a8\"],[0.3333333333333333,\"#9c179e\"],[0.4444444444444444,\"#bd3786\"],[0.5555555555555556,\"#d8576b\"],[0.6666666666666666,\"#ed7953\"],[0.7777777777777778,\"#fb9f3a\"],[0.8888888888888888,\"#fdca26\"],[1.0,\"#f0f921\"]]}],\"mesh3d\":[{\"type\":\"mesh3d\",\"colorbar\":{\"outlinewidth\":0,\"ticks\":\"\"}}],\"scatter\":[{\"fillpattern\":{\"fillmode\":\"overlay\",\"size\":10,\"solidity\":0.2},\"type\":\"scatter\"}],\"parcoords\":[{\"type\":\"parcoords\",\"line\":{\"colorbar\":{\"outlinewidth\":0,\"ticks\":\"\"}}}],\"scatterpolargl\":[{\"type\":\"scatterpolargl\",\"marker\":{\"colorbar\":{\"outlinewidth\":0,\"ticks\":\"\"}}}],\"bar\":[{\"error_x\":{\"color\":\"#2a3f5f\"},\"error_y\":{\"color\":\"#2a3f5f\"},\"marker\":{\"line\":{\"color\":\"#E5ECF6\",\"width\":0.5},\"pattern\":{\"fillmode\":\"overlay\",\"size\":10,\"solidity\":0.2}},\"type\":\"bar\"}],\"scattergeo\":[{\"type\":\"scattergeo\",\"marker\":{\"colorbar\":{\"outlinewidth\":0,\"ticks\":\"\"}}}],\"scatterpolar\":[{\"type\":\"scatterpolar\",\"marker\":{\"colorbar\":{\"outlinewidth\":0,\"ticks\":\"\"}}}],\"histogram\":[{\"marker\":{\"pattern\":{\"fillmode\":\"overlay\",\"size\":10,\"solidity\":0.2}},\"type\":\"histogram\"}],\"scattergl\":[{\"type\":\"scattergl\",\"marker\":{\"colorbar\":{\"outlinewidth\":0,\"ticks\":\"\"}}}],\"scatter3d\":[{\"type\":\"scatter3d\",\"line\":{\"colorbar\":{\"outlinewidth\":0,\"ticks\":\"\"}},\"marker\":{\"colorbar\":{\"outlinewidth\":0,\"ticks\":\"\"}}}],\"scattermapbox\":[{\"type\":\"scattermapbox\",\"marker\":{\"colorbar\":{\"outlinewidth\":0,\"ticks\":\"\"}}}],\"scatterternary\":[{\"type\":\"scatterternary\",\"marker\":{\"colorbar\":{\"outlinewidth\":0,\"ticks\":\"\"}}}],\"scattercarpet\":[{\"type\":\"scattercarpet\",\"marker\":{\"colorbar\":{\"outlinewidth\":0,\"ticks\":\"\"}}}],\"carpet\":[{\"aaxis\":{\"endlinecolor\":\"#2a3f5f\",\"gridcolor\":\"white\",\"linecolor\":\"white\",\"minorgridcolor\":\"white\",\"startlinecolor\":\"#2a3f5f\"},\"baxis\":{\"endlinecolor\":\"#2a3f5f\",\"gridcolor\":\"white\",\"linecolor\":\"white\",\"minorgridcolor\":\"white\",\"startlinecolor\":\"#2a3f5f\"},\"type\":\"carpet\"}],\"table\":[{\"cells\":{\"fill\":{\"color\":\"#EBF0F8\"},\"line\":{\"color\":\"white\"}},\"header\":{\"fill\":{\"color\":\"#C8D4E3\"},\"line\":{\"color\":\"white\"}},\"type\":\"table\"}],\"barpolar\":[{\"marker\":{\"line\":{\"color\":\"#E5ECF6\",\"width\":0.5},\"pattern\":{\"fillmode\":\"overlay\",\"size\":10,\"solidity\":0.2}},\"type\":\"barpolar\"}],\"pie\":[{\"automargin\":true,\"type\":\"pie\"}]},\"layout\":{\"autotypenumbers\":\"strict\",\"colorway\":[\"#636efa\",\"#EF553B\",\"#00cc96\",\"#ab63fa\",\"#FFA15A\",\"#19d3f3\",\"#FF6692\",\"#B6E880\",\"#FF97FF\",\"#FECB52\"],\"font\":{\"color\":\"#2a3f5f\"},\"hovermode\":\"closest\",\"hoverlabel\":{\"align\":\"left\"},\"paper_bgcolor\":\"white\",\"plot_bgcolor\":\"#E5ECF6\",\"polar\":{\"bgcolor\":\"#E5ECF6\",\"angularaxis\":{\"gridcolor\":\"white\",\"linecolor\":\"white\",\"ticks\":\"\"},\"radialaxis\":{\"gridcolor\":\"white\",\"linecolor\":\"white\",\"ticks\":\"\"}},\"ternary\":{\"bgcolor\":\"#E5ECF6\",\"aaxis\":{\"gridcolor\":\"white\",\"linecolor\":\"white\",\"ticks\":\"\"},\"baxis\":{\"gridcolor\":\"white\",\"linecolor\":\"white\",\"ticks\":\"\"},\"caxis\":{\"gridcolor\":\"white\",\"linecolor\":\"white\",\"ticks\":\"\"}},\"coloraxis\":{\"colorbar\":{\"outlinewidth\":0,\"ticks\":\"\"}},\"colorscale\":{\"sequential\":[[0.0,\"#0d0887\"],[0.1111111111111111,\"#46039f\"],[0.2222222222222222,\"#7201a8\"],[0.3333333333333333,\"#9c179e\"],[0.4444444444444444,\"#bd3786\"],[0.5555555555555556,\"#d8576b\"],[0.6666666666666666,\"#ed7953\"],[0.7777777777777778,\"#fb9f3a\"],[0.8888888888888888,\"#fdca26\"],[1.0,\"#f0f921\"]],\"sequentialminus\":[[0.0,\"#0d0887\"],[0.1111111111111111,\"#46039f\"],[0.2222222222222222,\"#7201a8\"],[0.3333333333333333,\"#9c179e\"],[0.4444444444444444,\"#bd3786\"],[0.5555555555555556,\"#d8576b\"],[0.6666666666666666,\"#ed7953\"],[0.7777777777777778,\"#fb9f3a\"],[0.8888888888888888,\"#fdca26\"],[1.0,\"#f0f921\"]],\"diverging\":[[0,\"#8e0152\"],[0.1,\"#c51b7d\"],[0.2,\"#de77ae\"],[0.3,\"#f1b6da\"],[0.4,\"#fde0ef\"],[0.5,\"#f7f7f7\"],[0.6,\"#e6f5d0\"],[0.7,\"#b8e186\"],[0.8,\"#7fbc41\"],[0.9,\"#4d9221\"],[1,\"#276419\"]]},\"xaxis\":{\"gridcolor\":\"white\",\"linecolor\":\"white\",\"ticks\":\"\",\"title\":{\"standoff\":15},\"zerolinecolor\":\"white\",\"automargin\":true,\"zerolinewidth\":2},\"yaxis\":{\"gridcolor\":\"white\",\"linecolor\":\"white\",\"ticks\":\"\",\"title\":{\"standoff\":15},\"zerolinecolor\":\"white\",\"automargin\":true,\"zerolinewidth\":2},\"scene\":{\"xaxis\":{\"backgroundcolor\":\"#E5ECF6\",\"gridcolor\":\"white\",\"linecolor\":\"white\",\"showbackground\":true,\"ticks\":\"\",\"zerolinecolor\":\"white\",\"gridwidth\":2},\"yaxis\":{\"backgroundcolor\":\"#E5ECF6\",\"gridcolor\":\"white\",\"linecolor\":\"white\",\"showbackground\":true,\"ticks\":\"\",\"zerolinecolor\":\"white\",\"gridwidth\":2},\"zaxis\":{\"backgroundcolor\":\"#E5ECF6\",\"gridcolor\":\"white\",\"linecolor\":\"white\",\"showbackground\":true,\"ticks\":\"\",\"zerolinecolor\":\"white\",\"gridwidth\":2}},\"shapedefaults\":{\"line\":{\"color\":\"#2a3f5f\"}},\"annotationdefaults\":{\"arrowcolor\":\"#2a3f5f\",\"arrowhead\":0,\"arrowwidth\":1},\"geo\":{\"bgcolor\":\"white\",\"landcolor\":\"#E5ECF6\",\"subunitcolor\":\"white\",\"showland\":true,\"showlakes\":true,\"lakecolor\":\"white\"},\"title\":{\"x\":0.05},\"mapbox\":{\"style\":\"light\"}}},\"xaxis\":{\"anchor\":\"y\",\"domain\":[0.0,1.0],\"title\":{\"text\":\"Questions\"}},\"yaxis\":{\"anchor\":\"x\",\"domain\":[0.0,1.0],\"title\":{\"text\":\"F1 Score\"}},\"coloraxis\":{\"colorbar\":{\"title\":{\"text\":\"F1 Score\"}},\"colorscale\":[[0.0,\"rgb(247,251,255)\"],[0.125,\"rgb(222,235,247)\"],[0.25,\"rgb(198,219,239)\"],[0.375,\"rgb(158,202,225)\"],[0.5,\"rgb(107,174,214)\"],[0.625,\"rgb(66,146,198)\"],[0.75,\"rgb(33,113,181)\"],[0.875,\"rgb(8,81,156)\"],[1.0,\"rgb(8,48,107)\"]],\"showscale\":false},\"legend\":{\"tracegroupgap\":0},\"title\":{\"text\":\"Top 10 QA Pairs by F1 Score\",\"x\":0.5},\"barmode\":\"relative\",\"font\":{\"size\":12},\"plot_bgcolor\":\"white\"},                        {\"responsive\": true}                    ).then(function(){\n",
       "                            \n",
       "var gd = document.getElementById('80299962-2b5f-4279-a4ef-04df30c10e6f');\n",
       "var x = new MutationObserver(function (mutations, observer) {{\n",
       "        var display = window.getComputedStyle(gd).display;\n",
       "        if (!display || display === 'none') {{\n",
       "            console.log([gd, 'removed!']);\n",
       "            Plotly.purge(gd);\n",
       "            observer.disconnect();\n",
       "        }}\n",
       "}});\n",
       "\n",
       "// Listen for the removal of the full notebook cells\n",
       "var notebookContainer = gd.closest('#notebook-container');\n",
       "if (notebookContainer) {{\n",
       "    x.observe(notebookContainer, {childList: true});\n",
       "}}\n",
       "\n",
       "// Listen for the clearing of the current output cell\n",
       "var outputEl = gd.closest('.output');\n",
       "if (outputEl) {{\n",
       "    x.observe(outputEl, {childList: true});\n",
       "}}\n",
       "\n",
       "                        })                };                });            </script>        </div>"
      ]
     },
     "metadata": {},
     "output_type": "display_data"
    }
   ],
   "source": [
    "import plotly.express as px\n",
    "\n",
    "# Example: Interactive bar chart for top 10 F1 scores\n",
    "top_10 = df_results.nlargest(10, 'f1')\n",
    "\n",
    "fig = px.bar(\n",
    "    top_10,\n",
    "    x='question',\n",
    "    y='f1',\n",
    "    title=\"Top 10 QA Pairs by F1 Score\",\n",
    "    labels={'f1': 'F1 Score', 'question': 'Questions'},\n",
    "    text='f1',\n",
    "    color='f1',\n",
    "    color_continuous_scale='Blues'\n",
    ")\n",
    "fig.update_layout(\n",
    "    xaxis_title=\"Questions\",\n",
    "    yaxis_title=\"F1 Score\",\n",
    "    title_x=0.5,\n",
    "    font=dict(size=12),\n",
    "    plot_bgcolor='white',\n",
    "    coloraxis_showscale=False\n",
    ")\n",
    "fig.show()\n",
    "fig.write_html(\"plot.html\")"
   ]
  }
 ],
 "metadata": {
  "kernelspec": {
   "display_name": "Python 3 (ipykernel)",
   "language": "python",
   "name": "python3"
  },
  "language_info": {
   "codemirror_mode": {
    "name": "ipython",
    "version": 3
   },
   "file_extension": ".py",
   "mimetype": "text/x-python",
   "name": "python",
   "nbconvert_exporter": "python",
   "pygments_lexer": "ipython3",
   "version": "3.12.8"
  }
 },
 "nbformat": 4,
 "nbformat_minor": 5
}
